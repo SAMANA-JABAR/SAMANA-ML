{
  "nbformat": 4,
  "nbformat_minor": 0,
  "metadata": {
    "colab": {
      "name": "2 Training_Model_K-Means_SAW.ipynb",
      "provenance": [],
      "collapsed_sections": [],
      "toc_visible": true
    },
    "kernelspec": {
      "display_name": "Python 3",
      "name": "python3"
    },
    "language_info": {
      "name": "python"
    }
  },
  "cells": [
    {
      "cell_type": "markdown",
      "metadata": {
        "id": "YjZJi6z_TaCY"
      },
      "source": [
        "# **TRAINING MODEL**"
      ]
    },
    {
      "cell_type": "markdown",
      "metadata": {
        "id": "-oLC29xTTdE1"
      },
      "source": [
        "[B21-CAP0409] Bangkit Capstone - Decision Support System for West Java Social Assistance using the SAW and K-Means Method"
      ]
    },
    {
      "cell_type": "code",
      "metadata": {
        "colab": {
          "base_uri": "https://localhost:8080/"
        },
        "id": "crC0fwgX2a1V",
        "outputId": "41d94ac9-ad83-4005-a6ac-b86c9a035c49"
      },
      "source": [
        "!pip install ipython-autotime\n",
        "\n",
        "%load_ext autotime"
      ],
      "execution_count": null,
      "outputs": [
        {
          "output_type": "stream",
          "text": [
            "Collecting ipython-autotime\n",
            "  Downloading https://files.pythonhosted.org/packages/b4/c9/b413a24f759641bc27ef98c144b590023c8038dfb8a3f09e713e9dff12c1/ipython_autotime-0.3.1-py2.py3-none-any.whl\n",
            "Requirement already satisfied: ipython in /usr/local/lib/python3.7/dist-packages (from ipython-autotime) (5.5.0)\n",
            "Requirement already satisfied: traitlets>=4.2 in /usr/local/lib/python3.7/dist-packages (from ipython->ipython-autotime) (5.0.5)\n",
            "Requirement already satisfied: setuptools>=18.5 in /usr/local/lib/python3.7/dist-packages (from ipython->ipython-autotime) (56.1.0)\n",
            "Requirement already satisfied: pexpect; sys_platform != \"win32\" in /usr/local/lib/python3.7/dist-packages (from ipython->ipython-autotime) (4.8.0)\n",
            "Requirement already satisfied: simplegeneric>0.8 in /usr/local/lib/python3.7/dist-packages (from ipython->ipython-autotime) (0.8.1)\n",
            "Requirement already satisfied: prompt-toolkit<2.0.0,>=1.0.4 in /usr/local/lib/python3.7/dist-packages (from ipython->ipython-autotime) (1.0.18)\n",
            "Requirement already satisfied: pygments in /usr/local/lib/python3.7/dist-packages (from ipython->ipython-autotime) (2.6.1)\n",
            "Requirement already satisfied: decorator in /usr/local/lib/python3.7/dist-packages (from ipython->ipython-autotime) (4.4.2)\n",
            "Requirement already satisfied: pickleshare in /usr/local/lib/python3.7/dist-packages (from ipython->ipython-autotime) (0.7.5)\n",
            "Requirement already satisfied: ipython-genutils in /usr/local/lib/python3.7/dist-packages (from traitlets>=4.2->ipython->ipython-autotime) (0.2.0)\n",
            "Requirement already satisfied: ptyprocess>=0.5 in /usr/local/lib/python3.7/dist-packages (from pexpect; sys_platform != \"win32\"->ipython->ipython-autotime) (0.7.0)\n",
            "Requirement already satisfied: six>=1.9.0 in /usr/local/lib/python3.7/dist-packages (from prompt-toolkit<2.0.0,>=1.0.4->ipython->ipython-autotime) (1.15.0)\n",
            "Requirement already satisfied: wcwidth in /usr/local/lib/python3.7/dist-packages (from prompt-toolkit<2.0.0,>=1.0.4->ipython->ipython-autotime) (0.2.5)\n",
            "Installing collected packages: ipython-autotime\n",
            "Successfully installed ipython-autotime-0.3.1\n",
            "time: 2.5 ms (started: 2021-06-02 13:13:34 +00:00)\n"
          ],
          "name": "stdout"
        }
      ]
    },
    {
      "cell_type": "markdown",
      "metadata": {
        "id": "sQmL3Tafnv6t"
      },
      "source": [
        "# Import Libraries"
      ]
    },
    {
      "cell_type": "code",
      "metadata": {
        "colab": {
          "base_uri": "https://localhost:8080/"
        },
        "id": "UsdrZB1dZl0G",
        "outputId": "a87a7afd-27bf-4ff4-b12c-fa9f0992f0f2"
      },
      "source": [
        "%tensorflow_version 1.x"
      ],
      "execution_count": null,
      "outputs": [
        {
          "output_type": "stream",
          "text": [
            "TensorFlow 1.x selected.\n",
            "time: 286 ms (started: 2021-06-02 13:13:34 +00:00)\n"
          ],
          "name": "stdout"
        }
      ]
    },
    {
      "cell_type": "code",
      "metadata": {
        "colab": {
          "base_uri": "https://localhost:8080/"
        },
        "id": "CnWul3bwZs6f",
        "outputId": "dc27961f-6ab5-40b2-9753-b889fb59e7a3"
      },
      "source": [
        "import tensorflow\n",
        "print(tensorflow.__version__)"
      ],
      "execution_count": null,
      "outputs": [
        {
          "output_type": "stream",
          "text": [
            "1.15.2\n",
            "time: 4.04 s (started: 2021-06-02 13:13:34 +00:00)\n"
          ],
          "name": "stdout"
        }
      ]
    },
    {
      "cell_type": "code",
      "metadata": {
        "colab": {
          "base_uri": "https://localhost:8080/"
        },
        "id": "CkVk3U5ZnxqH",
        "outputId": "da2bc77d-710b-49a6-a46b-d0b9a89f58be"
      },
      "source": [
        "import os\n",
        "import io\n",
        "import random\n",
        "import numpy as np\n",
        "import pandas as pd \n",
        "import requests\n",
        "import tensorflow as tf\n",
        "import matplotlib.pyplot as plt\n",
        "import warnings\n",
        "warnings.filterwarnings(\"ignore\")\n",
        "\n",
        "from sklearn.preprocessing import StandardScaler\n",
        "from sklearn.cluster import KMeans\n",
        "from random import choice, shuffle\n",
        "from tensorflow import keras\n",
        "from keras.layers import Input, Dense"
      ],
      "execution_count": null,
      "outputs": [
        {
          "output_type": "stream",
          "text": [
            "time: 1.03 s (started: 2021-06-02 13:13:38 +00:00)\n"
          ],
          "name": "stdout"
        },
        {
          "output_type": "stream",
          "text": [
            "Using TensorFlow backend.\n"
          ],
          "name": "stderr"
        }
      ]
    },
    {
      "cell_type": "markdown",
      "metadata": {
        "id": "yZYSDFAKn4ew"
      },
      "source": [
        "# Import Train Datasets"
      ]
    },
    {
      "cell_type": "code",
      "metadata": {
        "id": "MXIw2yWRn8Wp",
        "colab": {
          "resources": {
            "http://localhost:8080/nbextensions/google.colab/files.js": {
              "data": "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",
              "ok": true,
              "headers": [
                [
                  "content-type",
                  "application/javascript"
                ]
              ],
              "status": 200,
              "status_text": ""
            }
          },
          "base_uri": "https://localhost:8080/",
          "height": 106
        },
        "outputId": "20f947e5-6adb-4638-bab3-6d4484a7c5ee"
      },
      "source": [
        "#from local drive\n",
        "\n",
        "from google.colab import files\n",
        "uploaded = files.upload()"
      ],
      "execution_count": null,
      "outputs": [
        {
          "output_type": "display_data",
          "data": {
            "text/html": [
              "\n",
              "     <input type=\"file\" id=\"files-aec6abea-9895-41ca-9d15-d5747ccba0c1\" name=\"files[]\" multiple disabled\n",
              "        style=\"border:none\" />\n",
              "     <output id=\"result-aec6abea-9895-41ca-9d15-d5747ccba0c1\">\n",
              "      Upload widget is only available when the cell has been executed in the\n",
              "      current browser session. Please rerun this cell to enable.\n",
              "      </output>\n",
              "      <script src=\"/nbextensions/google.colab/files.js\"></script> "
            ],
            "text/plain": [
              "<IPython.core.display.HTML object>"
            ]
          },
          "metadata": {
            "tags": []
          }
        },
        {
          "output_type": "stream",
          "text": [
            "Saving train_datasetKependudukan.xlsx to train_datasetKependudukan.xlsx\n",
            "time: 29.9 s (started: 2021-06-02 13:13:39 +00:00)\n"
          ],
          "name": "stdout"
        }
      ]
    },
    {
      "cell_type": "code",
      "metadata": {
        "id": "AkpsyntKn98b",
        "colab": {
          "base_uri": "https://localhost:8080/"
        },
        "outputId": "af3c06b4-9dd8-4565-f659-bf8ca94be101"
      },
      "source": [
        "penduduk_df = pd.read_excel(io.BytesIO(uploaded['train_datasetKependudukan.xlsx']))"
      ],
      "execution_count": null,
      "outputs": [
        {
          "output_type": "stream",
          "text": [
            "time: 448 ms (started: 2021-06-02 13:14:09 +00:00)\n"
          ],
          "name": "stdout"
        }
      ]
    },
    {
      "cell_type": "code",
      "metadata": {
        "id": "pOV94F2dx-br",
        "colab": {
          "base_uri": "https://localhost:8080/"
        },
        "outputId": "3a1bcab9-7b4d-4462-c642-b2e0c721f985"
      },
      "source": [
        "#from google colab file\n",
        "\n",
        "#location = '/content/train_datasetKependudukan.xlsx'\n",
        "#penduduk_df = pd.read_excel(location)"
      ],
      "execution_count": null,
      "outputs": [
        {
          "output_type": "stream",
          "text": [
            "time: 1.28 ms (started: 2021-06-02 13:14:10 +00:00)\n"
          ],
          "name": "stdout"
        }
      ]
    },
    {
      "cell_type": "markdown",
      "metadata": {
        "id": "bzakdYDjoB1Q"
      },
      "source": [
        "# Data Statistics"
      ]
    },
    {
      "cell_type": "code",
      "metadata": {
        "id": "UbxqeOI9nu9K",
        "colab": {
          "base_uri": "https://localhost:8080/",
          "height": 813
        },
        "outputId": "a9cff65e-18c6-45f7-ce0c-05b45905f2d7"
      },
      "source": [
        "penduduk_df"
      ],
      "execution_count": null,
      "outputs": [
        {
          "output_type": "execute_result",
          "data": {
            "text/html": [
              "<div>\n",
              "<style scoped>\n",
              "    .dataframe tbody tr th:only-of-type {\n",
              "        vertical-align: middle;\n",
              "    }\n",
              "\n",
              "    .dataframe tbody tr th {\n",
              "        vertical-align: top;\n",
              "    }\n",
              "\n",
              "    .dataframe thead th {\n",
              "        text-align: right;\n",
              "    }\n",
              "</style>\n",
              "<table border=\"1\" class=\"dataframe\">\n",
              "  <thead>\n",
              "    <tr style=\"text-align: right;\">\n",
              "      <th></th>\n",
              "      <th>nik</th>\n",
              "      <th>nama</th>\n",
              "      <th>tanggal_lahir</th>\n",
              "      <th>tanggungan_keluarga</th>\n",
              "      <th>pendidikan</th>\n",
              "      <th>profesi</th>\n",
              "      <th>status</th>\n",
              "      <th>gaji</th>\n",
              "      <th>kota_kabupaten</th>\n",
              "      <th>kecamatan</th>\n",
              "      <th>kelurahan</th>\n",
              "      <th>alamat</th>\n",
              "      <th>kondisi_kesehatan</th>\n",
              "      <th>atap</th>\n",
              "      <th>dinding</th>\n",
              "      <th>lantai</th>\n",
              "      <th>sumber_penerangan</th>\n",
              "      <th>sumber_air</th>\n",
              "      <th>luas_rumah</th>\n",
              "      <th>status_bansos</th>\n",
              "    </tr>\n",
              "  </thead>\n",
              "  <tbody>\n",
              "    <tr>\n",
              "      <th>0</th>\n",
              "      <td>3204166610100000</td>\n",
              "      <td>RIMA MELA**</td>\n",
              "      <td>1980-01-29</td>\n",
              "      <td>1</td>\n",
              "      <td>0</td>\n",
              "      <td>17</td>\n",
              "      <td>0</td>\n",
              "      <td>3</td>\n",
              "      <td>KAB.BANDUNG</td>\n",
              "      <td>ARJASARI</td>\n",
              "      <td>ANCOLMEKAR</td>\n",
              "      <td>KP WARG*****</td>\n",
              "      <td>2</td>\n",
              "      <td>1</td>\n",
              "      <td>0</td>\n",
              "      <td>3</td>\n",
              "      <td>0</td>\n",
              "      <td>0</td>\n",
              "      <td>3</td>\n",
              "      <td>NaN</td>\n",
              "    </tr>\n",
              "    <tr>\n",
              "      <th>1</th>\n",
              "      <td>3204166409100001</td>\n",
              "      <td>CUCU</td>\n",
              "      <td>1953-08-01</td>\n",
              "      <td>4</td>\n",
              "      <td>7</td>\n",
              "      <td>9</td>\n",
              "      <td>2</td>\n",
              "      <td>3</td>\n",
              "      <td>KAB.BANDUNG</td>\n",
              "      <td>ARJASARI</td>\n",
              "      <td>ANCOLMEKAR</td>\n",
              "      <td>KP WARG*****</td>\n",
              "      <td>0</td>\n",
              "      <td>2</td>\n",
              "      <td>1</td>\n",
              "      <td>2</td>\n",
              "      <td>3</td>\n",
              "      <td>2</td>\n",
              "      <td>0</td>\n",
              "      <td>NaN</td>\n",
              "    </tr>\n",
              "    <tr>\n",
              "      <th>2</th>\n",
              "      <td>3204165010100002</td>\n",
              "      <td>USMI</td>\n",
              "      <td>1984-03-03</td>\n",
              "      <td>0</td>\n",
              "      <td>6</td>\n",
              "      <td>58</td>\n",
              "      <td>0</td>\n",
              "      <td>1</td>\n",
              "      <td>KAB.BANDUNG</td>\n",
              "      <td>ARJASARI</td>\n",
              "      <td>ANCOLMEKAR</td>\n",
              "      <td>KP</td>\n",
              "      <td>0</td>\n",
              "      <td>2</td>\n",
              "      <td>2</td>\n",
              "      <td>3</td>\n",
              "      <td>0</td>\n",
              "      <td>1</td>\n",
              "      <td>0</td>\n",
              "      <td>rejected</td>\n",
              "    </tr>\n",
              "    <tr>\n",
              "      <th>3</th>\n",
              "      <td>3204164107100003</td>\n",
              "      <td>MIMI</td>\n",
              "      <td>1944-02-24</td>\n",
              "      <td>4</td>\n",
              "      <td>5</td>\n",
              "      <td>29</td>\n",
              "      <td>2</td>\n",
              "      <td>5</td>\n",
              "      <td>KAB.BANDUNG</td>\n",
              "      <td>ARJASARI</td>\n",
              "      <td>ANCOLMEKAR</td>\n",
              "      <td>KP ANCO* RT 02 RW 04</td>\n",
              "      <td>2</td>\n",
              "      <td>0</td>\n",
              "      <td>3</td>\n",
              "      <td>3</td>\n",
              "      <td>0</td>\n",
              "      <td>0</td>\n",
              "      <td>0</td>\n",
              "      <td>NaN</td>\n",
              "    </tr>\n",
              "    <tr>\n",
              "      <th>4</th>\n",
              "      <td>3204165504100004</td>\n",
              "      <td>ETI ROHA***</td>\n",
              "      <td>1947-09-14</td>\n",
              "      <td>3</td>\n",
              "      <td>7</td>\n",
              "      <td>63</td>\n",
              "      <td>2</td>\n",
              "      <td>1</td>\n",
              "      <td>KAB.BANDUNG</td>\n",
              "      <td>ARJASARI</td>\n",
              "      <td>ANCOLMEKAR</td>\n",
              "      <td>KP ANCO* RW 009 RT 002</td>\n",
              "      <td>2</td>\n",
              "      <td>2</td>\n",
              "      <td>2</td>\n",
              "      <td>3</td>\n",
              "      <td>2</td>\n",
              "      <td>1</td>\n",
              "      <td>1</td>\n",
              "      <td>rejected</td>\n",
              "    </tr>\n",
              "    <tr>\n",
              "      <th>...</th>\n",
              "      <td>...</td>\n",
              "      <td>...</td>\n",
              "      <td>...</td>\n",
              "      <td>...</td>\n",
              "      <td>...</td>\n",
              "      <td>...</td>\n",
              "      <td>...</td>\n",
              "      <td>...</td>\n",
              "      <td>...</td>\n",
              "      <td>...</td>\n",
              "      <td>...</td>\n",
              "      <td>...</td>\n",
              "      <td>...</td>\n",
              "      <td>...</td>\n",
              "      <td>...</td>\n",
              "      <td>...</td>\n",
              "      <td>...</td>\n",
              "      <td>...</td>\n",
              "      <td>...</td>\n",
              "      <td>...</td>\n",
              "    </tr>\n",
              "    <tr>\n",
              "      <th>2785</th>\n",
              "      <td>3204374207102785</td>\n",
              "      <td>ENTA*</td>\n",
              "      <td>1931-06-07</td>\n",
              "      <td>4</td>\n",
              "      <td>3</td>\n",
              "      <td>43</td>\n",
              "      <td>2</td>\n",
              "      <td>3</td>\n",
              "      <td>KAB.BANDUNG</td>\n",
              "      <td>SOREANG</td>\n",
              "      <td>SUKANAGARA</td>\n",
              "      <td>KP LEGO* HEAS RT 01 RW 05</td>\n",
              "      <td>0</td>\n",
              "      <td>1</td>\n",
              "      <td>1</td>\n",
              "      <td>3</td>\n",
              "      <td>2</td>\n",
              "      <td>0</td>\n",
              "      <td>3</td>\n",
              "      <td>NaN</td>\n",
              "    </tr>\n",
              "    <tr>\n",
              "      <th>2786</th>\n",
              "      <td>3204374311102786</td>\n",
              "      <td>RUSM****</td>\n",
              "      <td>1935-04-28</td>\n",
              "      <td>6</td>\n",
              "      <td>3</td>\n",
              "      <td>34</td>\n",
              "      <td>3</td>\n",
              "      <td>2</td>\n",
              "      <td>KAB.BANDUNG</td>\n",
              "      <td>SOREANG</td>\n",
              "      <td>SUKANAGARA</td>\n",
              "      <td>KP LEGO* HEAS RT 003 RW 004</td>\n",
              "      <td>0</td>\n",
              "      <td>0</td>\n",
              "      <td>2</td>\n",
              "      <td>0</td>\n",
              "      <td>2</td>\n",
              "      <td>1</td>\n",
              "      <td>1</td>\n",
              "      <td>NaN</td>\n",
              "    </tr>\n",
              "    <tr>\n",
              "      <th>2787</th>\n",
              "      <td>3204370605102787</td>\n",
              "      <td>CAHN*</td>\n",
              "      <td>1932-04-14</td>\n",
              "      <td>5</td>\n",
              "      <td>5</td>\n",
              "      <td>59</td>\n",
              "      <td>0</td>\n",
              "      <td>4</td>\n",
              "      <td>KAB.BANDUNG</td>\n",
              "      <td>SOREANG</td>\n",
              "      <td>SUKANAGARA</td>\n",
              "      <td>KP CIWA*** RT 05 RW 07</td>\n",
              "      <td>0</td>\n",
              "      <td>2</td>\n",
              "      <td>1</td>\n",
              "      <td>1</td>\n",
              "      <td>1</td>\n",
              "      <td>0</td>\n",
              "      <td>1</td>\n",
              "      <td>rejected</td>\n",
              "    </tr>\n",
              "    <tr>\n",
              "      <th>2788</th>\n",
              "      <td>3204375903102788</td>\n",
              "      <td>RISM* YANT*</td>\n",
              "      <td>1990-12-12</td>\n",
              "      <td>4</td>\n",
              "      <td>7</td>\n",
              "      <td>68</td>\n",
              "      <td>1</td>\n",
              "      <td>4</td>\n",
              "      <td>KAB.BANDUNG</td>\n",
              "      <td>SOREANG</td>\n",
              "      <td>SUKANAGARA</td>\n",
              "      <td>KP PASI* SALA* RT 005 RW 004</td>\n",
              "      <td>1</td>\n",
              "      <td>2</td>\n",
              "      <td>1</td>\n",
              "      <td>0</td>\n",
              "      <td>2</td>\n",
              "      <td>1</td>\n",
              "      <td>1</td>\n",
              "      <td>NaN</td>\n",
              "    </tr>\n",
              "    <tr>\n",
              "      <th>2789</th>\n",
              "      <td>3204374903102789</td>\n",
              "      <td>NENG TINA</td>\n",
              "      <td>1960-03-26</td>\n",
              "      <td>4</td>\n",
              "      <td>1</td>\n",
              "      <td>41</td>\n",
              "      <td>0</td>\n",
              "      <td>1</td>\n",
              "      <td>KAB.BANDUNG</td>\n",
              "      <td>SOREANG</td>\n",
              "      <td>SUKANAGARA</td>\n",
              "      <td>KP SIND*** WARG* RT 002 RW 006</td>\n",
              "      <td>1</td>\n",
              "      <td>1</td>\n",
              "      <td>2</td>\n",
              "      <td>1</td>\n",
              "      <td>0</td>\n",
              "      <td>0</td>\n",
              "      <td>2</td>\n",
              "      <td>NaN</td>\n",
              "    </tr>\n",
              "  </tbody>\n",
              "</table>\n",
              "<p>2790 rows × 20 columns</p>\n",
              "</div>"
            ],
            "text/plain": [
              "                   nik         nama  ... luas_rumah  status_bansos\n",
              "0     3204166610100000  RIMA MELA**  ...          3            NaN\n",
              "1     3204166409100001         CUCU  ...          0            NaN\n",
              "2     3204165010100002         USMI  ...          0       rejected\n",
              "3     3204164107100003         MIMI  ...          0            NaN\n",
              "4     3204165504100004  ETI ROHA***  ...          1       rejected\n",
              "...                ...          ...  ...        ...            ...\n",
              "2785  3204374207102785        ENTA*  ...          3            NaN\n",
              "2786  3204374311102786     RUSM****  ...          1            NaN\n",
              "2787  3204370605102787        CAHN*  ...          1       rejected\n",
              "2788  3204375903102788  RISM* YANT*  ...          1            NaN\n",
              "2789  3204374903102789    NENG TINA  ...          2            NaN\n",
              "\n",
              "[2790 rows x 20 columns]"
            ]
          },
          "metadata": {
            "tags": []
          },
          "execution_count": 8
        },
        {
          "output_type": "stream",
          "text": [
            "time: 50.3 ms (started: 2021-06-02 13:14:10 +00:00)\n"
          ],
          "name": "stdout"
        }
      ]
    },
    {
      "cell_type": "code",
      "metadata": {
        "id": "ZL6q9MF_oCo9",
        "colab": {
          "base_uri": "https://localhost:8080/"
        },
        "outputId": "9ee96dbd-632c-4265-9b3f-1801f914fbb6"
      },
      "source": [
        "penduduk_df.shape"
      ],
      "execution_count": null,
      "outputs": [
        {
          "output_type": "execute_result",
          "data": {
            "text/plain": [
              "(2790, 20)"
            ]
          },
          "metadata": {
            "tags": []
          },
          "execution_count": 9
        },
        {
          "output_type": "stream",
          "text": [
            "time: 3.37 ms (started: 2021-06-02 13:14:10 +00:00)\n"
          ],
          "name": "stdout"
        }
      ]
    },
    {
      "cell_type": "code",
      "metadata": {
        "id": "pfytCnc6oEo2",
        "colab": {
          "base_uri": "https://localhost:8080/"
        },
        "outputId": "1ed548a4-bd83-40a0-c1de-42dedd6ee03a"
      },
      "source": [
        "penduduk_df.columns"
      ],
      "execution_count": null,
      "outputs": [
        {
          "output_type": "execute_result",
          "data": {
            "text/plain": [
              "Index(['nik', 'nama', 'tanggal_lahir', 'tanggungan_keluarga', 'pendidikan',\n",
              "       'profesi', 'status', 'gaji', 'kota_kabupaten', 'kecamatan', 'kelurahan',\n",
              "       'alamat', 'kondisi_kesehatan', 'atap', 'dinding', 'lantai',\n",
              "       'sumber_penerangan', 'sumber_air', 'luas_rumah', 'status_bansos'],\n",
              "      dtype='object')"
            ]
          },
          "metadata": {
            "tags": []
          },
          "execution_count": 10
        },
        {
          "output_type": "stream",
          "text": [
            "time: 4.27 ms (started: 2021-06-02 13:14:10 +00:00)\n"
          ],
          "name": "stdout"
        }
      ]
    },
    {
      "cell_type": "code",
      "metadata": {
        "id": "QDYPTDteoGhc",
        "colab": {
          "base_uri": "https://localhost:8080/",
          "height": 489
        },
        "outputId": "907ca435-4321-4407-e829-b619824444c5"
      },
      "source": [
        "penduduk_df.describe().transpose()"
      ],
      "execution_count": null,
      "outputs": [
        {
          "output_type": "execute_result",
          "data": {
            "text/html": [
              "<div>\n",
              "<style scoped>\n",
              "    .dataframe tbody tr th:only-of-type {\n",
              "        vertical-align: middle;\n",
              "    }\n",
              "\n",
              "    .dataframe tbody tr th {\n",
              "        vertical-align: top;\n",
              "    }\n",
              "\n",
              "    .dataframe thead th {\n",
              "        text-align: right;\n",
              "    }\n",
              "</style>\n",
              "<table border=\"1\" class=\"dataframe\">\n",
              "  <thead>\n",
              "    <tr style=\"text-align: right;\">\n",
              "      <th></th>\n",
              "      <th>count</th>\n",
              "      <th>mean</th>\n",
              "      <th>std</th>\n",
              "      <th>min</th>\n",
              "      <th>25%</th>\n",
              "      <th>50%</th>\n",
              "      <th>75%</th>\n",
              "      <th>max</th>\n",
              "    </tr>\n",
              "  </thead>\n",
              "  <tbody>\n",
              "    <tr>\n",
              "      <th>nik</th>\n",
              "      <td>2790.0</td>\n",
              "      <td>3.210143e+15</td>\n",
              "      <td>3.252902e+14</td>\n",
              "      <td>100965.0</td>\n",
              "      <td>3.204150e+15</td>\n",
              "      <td>3.204285e+15</td>\n",
              "      <td>3.204355e+15</td>\n",
              "      <td>1.000000e+16</td>\n",
              "    </tr>\n",
              "    <tr>\n",
              "      <th>tanggungan_keluarga</th>\n",
              "      <td>2790.0</td>\n",
              "      <td>2.998208e+00</td>\n",
              "      <td>2.020599e+00</td>\n",
              "      <td>0.0</td>\n",
              "      <td>1.000000e+00</td>\n",
              "      <td>3.000000e+00</td>\n",
              "      <td>5.000000e+00</td>\n",
              "      <td>6.000000e+00</td>\n",
              "    </tr>\n",
              "    <tr>\n",
              "      <th>pendidikan</th>\n",
              "      <td>2790.0</td>\n",
              "      <td>3.467384e+00</td>\n",
              "      <td>2.274820e+00</td>\n",
              "      <td>0.0</td>\n",
              "      <td>1.000000e+00</td>\n",
              "      <td>3.000000e+00</td>\n",
              "      <td>5.000000e+00</td>\n",
              "      <td>7.000000e+00</td>\n",
              "    </tr>\n",
              "    <tr>\n",
              "      <th>profesi</th>\n",
              "      <td>2790.0</td>\n",
              "      <td>4.520573e+01</td>\n",
              "      <td>2.536944e+01</td>\n",
              "      <td>1.0</td>\n",
              "      <td>2.300000e+01</td>\n",
              "      <td>4.500000e+01</td>\n",
              "      <td>6.800000e+01</td>\n",
              "      <td>8.800000e+01</td>\n",
              "    </tr>\n",
              "    <tr>\n",
              "      <th>status</th>\n",
              "      <td>2790.0</td>\n",
              "      <td>1.484229e+00</td>\n",
              "      <td>1.119725e+00</td>\n",
              "      <td>0.0</td>\n",
              "      <td>0.000000e+00</td>\n",
              "      <td>1.000000e+00</td>\n",
              "      <td>2.000000e+00</td>\n",
              "      <td>3.000000e+00</td>\n",
              "    </tr>\n",
              "    <tr>\n",
              "      <th>gaji</th>\n",
              "      <td>2790.0</td>\n",
              "      <td>2.436201e+00</td>\n",
              "      <td>1.708409e+00</td>\n",
              "      <td>0.0</td>\n",
              "      <td>1.000000e+00</td>\n",
              "      <td>2.000000e+00</td>\n",
              "      <td>4.000000e+00</td>\n",
              "      <td>5.000000e+00</td>\n",
              "    </tr>\n",
              "    <tr>\n",
              "      <th>kondisi_kesehatan</th>\n",
              "      <td>2790.0</td>\n",
              "      <td>1.000358e+00</td>\n",
              "      <td>8.225488e-01</td>\n",
              "      <td>0.0</td>\n",
              "      <td>0.000000e+00</td>\n",
              "      <td>1.000000e+00</td>\n",
              "      <td>2.000000e+00</td>\n",
              "      <td>2.000000e+00</td>\n",
              "    </tr>\n",
              "    <tr>\n",
              "      <th>atap</th>\n",
              "      <td>2790.0</td>\n",
              "      <td>9.928315e-01</td>\n",
              "      <td>8.205536e-01</td>\n",
              "      <td>0.0</td>\n",
              "      <td>0.000000e+00</td>\n",
              "      <td>1.000000e+00</td>\n",
              "      <td>2.000000e+00</td>\n",
              "      <td>3.000000e+00</td>\n",
              "    </tr>\n",
              "    <tr>\n",
              "      <th>dinding</th>\n",
              "      <td>2790.0</td>\n",
              "      <td>1.517921e+00</td>\n",
              "      <td>1.121613e+00</td>\n",
              "      <td>0.0</td>\n",
              "      <td>1.000000e+00</td>\n",
              "      <td>2.000000e+00</td>\n",
              "      <td>3.000000e+00</td>\n",
              "      <td>4.000000e+00</td>\n",
              "    </tr>\n",
              "    <tr>\n",
              "      <th>lantai</th>\n",
              "      <td>2790.0</td>\n",
              "      <td>1.509677e+00</td>\n",
              "      <td>1.124587e+00</td>\n",
              "      <td>0.0</td>\n",
              "      <td>0.000000e+00</td>\n",
              "      <td>2.000000e+00</td>\n",
              "      <td>3.000000e+00</td>\n",
              "      <td>3.000000e+00</td>\n",
              "    </tr>\n",
              "    <tr>\n",
              "      <th>sumber_penerangan</th>\n",
              "      <td>2790.0</td>\n",
              "      <td>1.006810e+00</td>\n",
              "      <td>8.251320e-01</td>\n",
              "      <td>0.0</td>\n",
              "      <td>0.000000e+00</td>\n",
              "      <td>1.000000e+00</td>\n",
              "      <td>2.000000e+00</td>\n",
              "      <td>3.000000e+00</td>\n",
              "    </tr>\n",
              "    <tr>\n",
              "      <th>sumber_air</th>\n",
              "      <td>2790.0</td>\n",
              "      <td>4.903226e-01</td>\n",
              "      <td>5.085285e-01</td>\n",
              "      <td>0.0</td>\n",
              "      <td>0.000000e+00</td>\n",
              "      <td>0.000000e+00</td>\n",
              "      <td>1.000000e+00</td>\n",
              "      <td>2.000000e+00</td>\n",
              "    </tr>\n",
              "    <tr>\n",
              "      <th>luas_rumah</th>\n",
              "      <td>2790.0</td>\n",
              "      <td>1.508961e+00</td>\n",
              "      <td>1.121081e+00</td>\n",
              "      <td>0.0</td>\n",
              "      <td>0.000000e+00</td>\n",
              "      <td>2.000000e+00</td>\n",
              "      <td>3.000000e+00</td>\n",
              "      <td>3.000000e+00</td>\n",
              "    </tr>\n",
              "  </tbody>\n",
              "</table>\n",
              "</div>"
            ],
            "text/plain": [
              "                      count          mean  ...           75%           max\n",
              "nik                  2790.0  3.210143e+15  ...  3.204355e+15  1.000000e+16\n",
              "tanggungan_keluarga  2790.0  2.998208e+00  ...  5.000000e+00  6.000000e+00\n",
              "pendidikan           2790.0  3.467384e+00  ...  5.000000e+00  7.000000e+00\n",
              "profesi              2790.0  4.520573e+01  ...  6.800000e+01  8.800000e+01\n",
              "status               2790.0  1.484229e+00  ...  2.000000e+00  3.000000e+00\n",
              "gaji                 2790.0  2.436201e+00  ...  4.000000e+00  5.000000e+00\n",
              "kondisi_kesehatan    2790.0  1.000358e+00  ...  2.000000e+00  2.000000e+00\n",
              "atap                 2790.0  9.928315e-01  ...  2.000000e+00  3.000000e+00\n",
              "dinding              2790.0  1.517921e+00  ...  3.000000e+00  4.000000e+00\n",
              "lantai               2790.0  1.509677e+00  ...  3.000000e+00  3.000000e+00\n",
              "sumber_penerangan    2790.0  1.006810e+00  ...  2.000000e+00  3.000000e+00\n",
              "sumber_air           2790.0  4.903226e-01  ...  1.000000e+00  2.000000e+00\n",
              "luas_rumah           2790.0  1.508961e+00  ...  3.000000e+00  3.000000e+00\n",
              "\n",
              "[13 rows x 8 columns]"
            ]
          },
          "metadata": {
            "tags": []
          },
          "execution_count": 11
        },
        {
          "output_type": "stream",
          "text": [
            "time: 64.6 ms (started: 2021-06-02 13:14:10 +00:00)\n"
          ],
          "name": "stdout"
        }
      ]
    },
    {
      "cell_type": "code",
      "metadata": {
        "id": "iyfcQoeEoIEf",
        "colab": {
          "base_uri": "https://localhost:8080/"
        },
        "outputId": "c5a25f32-3e50-45c2-d308-599a4699bf67"
      },
      "source": [
        "penduduk_df.info()"
      ],
      "execution_count": null,
      "outputs": [
        {
          "output_type": "stream",
          "text": [
            "<class 'pandas.core.frame.DataFrame'>\n",
            "RangeIndex: 2790 entries, 0 to 2789\n",
            "Data columns (total 20 columns):\n",
            " #   Column               Non-Null Count  Dtype         \n",
            "---  ------               --------------  -----         \n",
            " 0   nik                  2790 non-null   int64         \n",
            " 1   nama                 2790 non-null   object        \n",
            " 2   tanggal_lahir        2790 non-null   datetime64[ns]\n",
            " 3   tanggungan_keluarga  2790 non-null   int64         \n",
            " 4   pendidikan           2790 non-null   int64         \n",
            " 5   profesi              2790 non-null   int64         \n",
            " 6   status               2790 non-null   int64         \n",
            " 7   gaji                 2790 non-null   int64         \n",
            " 8   kota_kabupaten       2790 non-null   object        \n",
            " 9   kecamatan            2790 non-null   object        \n",
            " 10  kelurahan            2790 non-null   object        \n",
            " 11  alamat               2762 non-null   object        \n",
            " 12  kondisi_kesehatan    2790 non-null   int64         \n",
            " 13  atap                 2790 non-null   int64         \n",
            " 14  dinding              2790 non-null   int64         \n",
            " 15  lantai               2790 non-null   int64         \n",
            " 16  sumber_penerangan    2790 non-null   int64         \n",
            " 17  sumber_air           2790 non-null   int64         \n",
            " 18  luas_rumah           2790 non-null   int64         \n",
            " 19  status_bansos        643 non-null    object        \n",
            "dtypes: datetime64[ns](1), int64(13), object(6)\n",
            "memory usage: 436.1+ KB\n",
            "time: 19.8 ms (started: 2021-06-02 13:14:10 +00:00)\n"
          ],
          "name": "stdout"
        }
      ]
    },
    {
      "cell_type": "code",
      "metadata": {
        "id": "G_P93XapoJqt",
        "colab": {
          "base_uri": "https://localhost:8080/"
        },
        "outputId": "7cad3db5-67c4-4e49-b61b-90ce6dcf59d8"
      },
      "source": [
        "# #check missing values computation\n",
        "penduduk_df.isnull().sum()"
      ],
      "execution_count": null,
      "outputs": [
        {
          "output_type": "execute_result",
          "data": {
            "text/plain": [
              "nik                       0\n",
              "nama                      0\n",
              "tanggal_lahir             0\n",
              "tanggungan_keluarga       0\n",
              "pendidikan                0\n",
              "profesi                   0\n",
              "status                    0\n",
              "gaji                      0\n",
              "kota_kabupaten            0\n",
              "kecamatan                 0\n",
              "kelurahan                 0\n",
              "alamat                   28\n",
              "kondisi_kesehatan         0\n",
              "atap                      0\n",
              "dinding                   0\n",
              "lantai                    0\n",
              "sumber_penerangan         0\n",
              "sumber_air                0\n",
              "luas_rumah                0\n",
              "status_bansos          2147\n",
              "dtype: int64"
            ]
          },
          "metadata": {
            "tags": []
          },
          "execution_count": 13
        },
        {
          "output_type": "stream",
          "text": [
            "time: 8.93 ms (started: 2021-06-02 13:14:10 +00:00)\n"
          ],
          "name": "stdout"
        }
      ]
    },
    {
      "cell_type": "markdown",
      "metadata": {
        "id": "6dxc5YnRoOVq"
      },
      "source": [
        "# Features for Clustering"
      ]
    },
    {
      "cell_type": "code",
      "metadata": {
        "colab": {
          "base_uri": "https://localhost:8080/"
        },
        "id": "tjAfanm5oPKm",
        "outputId": "d8ae7dc9-e47f-483d-efdc-a50dbf5d1558"
      },
      "source": [
        "#choose features for clustering (11 features)\n",
        "features = [\"tanggungan_keluarga\", \n",
        "            \"pendidikan\", \n",
        "            \"status\", \n",
        "            \"gaji\", \n",
        "            \"kondisi_kesehatan\",\n",
        "            \"atap\",\n",
        "            \"dinding\",\n",
        "            \"lantai\",\n",
        "            \"sumber_penerangan\",\n",
        "            \"sumber_air\",\n",
        "            \"luas_rumah\"]\n",
        "\n",
        "compute_df = penduduk_df.loc[(penduduk_df[\"status_bansos\"] != 'rejected')]\n",
        "tmp = features[:]\n",
        "tmp.insert(0, \"nik\")\n",
        "compute_df = compute_df[tmp]\n",
        "compute_df = compute_df.astype(int)\n",
        "\n",
        "features_df = compute_df[features]\n",
        "features_df.columns"
      ],
      "execution_count": null,
      "outputs": [
        {
          "output_type": "execute_result",
          "data": {
            "text/plain": [
              "Index(['tanggungan_keluarga', 'pendidikan', 'status', 'gaji',\n",
              "       'kondisi_kesehatan', 'atap', 'dinding', 'lantai', 'sumber_penerangan',\n",
              "       'sumber_air', 'luas_rumah'],\n",
              "      dtype='object')"
            ]
          },
          "metadata": {
            "tags": []
          },
          "execution_count": 14
        },
        {
          "output_type": "stream",
          "text": [
            "time: 17.5 ms (started: 2021-06-02 13:14:10 +00:00)\n"
          ],
          "name": "stdout"
        }
      ]
    },
    {
      "cell_type": "code",
      "metadata": {
        "colab": {
          "base_uri": "https://localhost:8080/",
          "height": 456
        },
        "id": "Q-1N_KcYoQ7Q",
        "outputId": "371a81da-7920-41f6-8fdf-6a4214558763"
      },
      "source": [
        "features_df"
      ],
      "execution_count": null,
      "outputs": [
        {
          "output_type": "execute_result",
          "data": {
            "text/html": [
              "<div>\n",
              "<style scoped>\n",
              "    .dataframe tbody tr th:only-of-type {\n",
              "        vertical-align: middle;\n",
              "    }\n",
              "\n",
              "    .dataframe tbody tr th {\n",
              "        vertical-align: top;\n",
              "    }\n",
              "\n",
              "    .dataframe thead th {\n",
              "        text-align: right;\n",
              "    }\n",
              "</style>\n",
              "<table border=\"1\" class=\"dataframe\">\n",
              "  <thead>\n",
              "    <tr style=\"text-align: right;\">\n",
              "      <th></th>\n",
              "      <th>tanggungan_keluarga</th>\n",
              "      <th>pendidikan</th>\n",
              "      <th>status</th>\n",
              "      <th>gaji</th>\n",
              "      <th>kondisi_kesehatan</th>\n",
              "      <th>atap</th>\n",
              "      <th>dinding</th>\n",
              "      <th>lantai</th>\n",
              "      <th>sumber_penerangan</th>\n",
              "      <th>sumber_air</th>\n",
              "      <th>luas_rumah</th>\n",
              "    </tr>\n",
              "  </thead>\n",
              "  <tbody>\n",
              "    <tr>\n",
              "      <th>0</th>\n",
              "      <td>1</td>\n",
              "      <td>0</td>\n",
              "      <td>0</td>\n",
              "      <td>3</td>\n",
              "      <td>2</td>\n",
              "      <td>1</td>\n",
              "      <td>0</td>\n",
              "      <td>3</td>\n",
              "      <td>0</td>\n",
              "      <td>0</td>\n",
              "      <td>3</td>\n",
              "    </tr>\n",
              "    <tr>\n",
              "      <th>1</th>\n",
              "      <td>4</td>\n",
              "      <td>7</td>\n",
              "      <td>2</td>\n",
              "      <td>3</td>\n",
              "      <td>0</td>\n",
              "      <td>2</td>\n",
              "      <td>1</td>\n",
              "      <td>2</td>\n",
              "      <td>3</td>\n",
              "      <td>2</td>\n",
              "      <td>0</td>\n",
              "    </tr>\n",
              "    <tr>\n",
              "      <th>3</th>\n",
              "      <td>4</td>\n",
              "      <td>5</td>\n",
              "      <td>2</td>\n",
              "      <td>5</td>\n",
              "      <td>2</td>\n",
              "      <td>0</td>\n",
              "      <td>3</td>\n",
              "      <td>3</td>\n",
              "      <td>0</td>\n",
              "      <td>0</td>\n",
              "      <td>0</td>\n",
              "    </tr>\n",
              "    <tr>\n",
              "      <th>6</th>\n",
              "      <td>0</td>\n",
              "      <td>1</td>\n",
              "      <td>2</td>\n",
              "      <td>5</td>\n",
              "      <td>1</td>\n",
              "      <td>1</td>\n",
              "      <td>1</td>\n",
              "      <td>2</td>\n",
              "      <td>2</td>\n",
              "      <td>1</td>\n",
              "      <td>1</td>\n",
              "    </tr>\n",
              "    <tr>\n",
              "      <th>7</th>\n",
              "      <td>6</td>\n",
              "      <td>4</td>\n",
              "      <td>0</td>\n",
              "      <td>2</td>\n",
              "      <td>0</td>\n",
              "      <td>1</td>\n",
              "      <td>3</td>\n",
              "      <td>3</td>\n",
              "      <td>1</td>\n",
              "      <td>0</td>\n",
              "      <td>3</td>\n",
              "    </tr>\n",
              "    <tr>\n",
              "      <th>...</th>\n",
              "      <td>...</td>\n",
              "      <td>...</td>\n",
              "      <td>...</td>\n",
              "      <td>...</td>\n",
              "      <td>...</td>\n",
              "      <td>...</td>\n",
              "      <td>...</td>\n",
              "      <td>...</td>\n",
              "      <td>...</td>\n",
              "      <td>...</td>\n",
              "      <td>...</td>\n",
              "    </tr>\n",
              "    <tr>\n",
              "      <th>2782</th>\n",
              "      <td>1</td>\n",
              "      <td>6</td>\n",
              "      <td>0</td>\n",
              "      <td>2</td>\n",
              "      <td>2</td>\n",
              "      <td>1</td>\n",
              "      <td>1</td>\n",
              "      <td>1</td>\n",
              "      <td>0</td>\n",
              "      <td>1</td>\n",
              "      <td>2</td>\n",
              "    </tr>\n",
              "    <tr>\n",
              "      <th>2785</th>\n",
              "      <td>4</td>\n",
              "      <td>3</td>\n",
              "      <td>2</td>\n",
              "      <td>3</td>\n",
              "      <td>0</td>\n",
              "      <td>1</td>\n",
              "      <td>1</td>\n",
              "      <td>3</td>\n",
              "      <td>2</td>\n",
              "      <td>0</td>\n",
              "      <td>3</td>\n",
              "    </tr>\n",
              "    <tr>\n",
              "      <th>2786</th>\n",
              "      <td>6</td>\n",
              "      <td>3</td>\n",
              "      <td>3</td>\n",
              "      <td>2</td>\n",
              "      <td>0</td>\n",
              "      <td>0</td>\n",
              "      <td>2</td>\n",
              "      <td>0</td>\n",
              "      <td>2</td>\n",
              "      <td>1</td>\n",
              "      <td>1</td>\n",
              "    </tr>\n",
              "    <tr>\n",
              "      <th>2788</th>\n",
              "      <td>4</td>\n",
              "      <td>7</td>\n",
              "      <td>1</td>\n",
              "      <td>4</td>\n",
              "      <td>1</td>\n",
              "      <td>2</td>\n",
              "      <td>1</td>\n",
              "      <td>0</td>\n",
              "      <td>2</td>\n",
              "      <td>1</td>\n",
              "      <td>1</td>\n",
              "    </tr>\n",
              "    <tr>\n",
              "      <th>2789</th>\n",
              "      <td>4</td>\n",
              "      <td>1</td>\n",
              "      <td>0</td>\n",
              "      <td>1</td>\n",
              "      <td>1</td>\n",
              "      <td>1</td>\n",
              "      <td>2</td>\n",
              "      <td>1</td>\n",
              "      <td>0</td>\n",
              "      <td>0</td>\n",
              "      <td>2</td>\n",
              "    </tr>\n",
              "  </tbody>\n",
              "</table>\n",
              "<p>2147 rows × 11 columns</p>\n",
              "</div>"
            ],
            "text/plain": [
              "      tanggungan_keluarga  pendidikan  ...  sumber_air  luas_rumah\n",
              "0                       1           0  ...           0           3\n",
              "1                       4           7  ...           2           0\n",
              "3                       4           5  ...           0           0\n",
              "6                       0           1  ...           1           1\n",
              "7                       6           4  ...           0           3\n",
              "...                   ...         ...  ...         ...         ...\n",
              "2782                    1           6  ...           1           2\n",
              "2785                    4           3  ...           0           3\n",
              "2786                    6           3  ...           1           1\n",
              "2788                    4           7  ...           1           1\n",
              "2789                    4           1  ...           0           2\n",
              "\n",
              "[2147 rows x 11 columns]"
            ]
          },
          "metadata": {
            "tags": []
          },
          "execution_count": 15
        },
        {
          "output_type": "stream",
          "text": [
            "time: 25.7 ms (started: 2021-06-02 13:14:10 +00:00)\n"
          ],
          "name": "stdout"
        }
      ]
    },
    {
      "cell_type": "markdown",
      "metadata": {
        "id": "IjSblUiwoVao"
      },
      "source": [
        "# Build a Model"
      ]
    },
    {
      "cell_type": "markdown",
      "metadata": {
        "id": "BmFoq6X_oYbk"
      },
      "source": [
        "## Elbow Methods"
      ]
    },
    {
      "cell_type": "markdown",
      "metadata": {
        "id": "NDOf7E0jobGz"
      },
      "source": [
        "to find out K for K-Means so that we can decide the optimum cluster number"
      ]
    },
    {
      "cell_type": "code",
      "metadata": {
        "id": "HUQ79zoBoWpf",
        "colab": {
          "base_uri": "https://localhost:8080/"
        },
        "outputId": "35e5ad75-b134-45b3-bb68-815c83b1a5dd"
      },
      "source": [
        "wcss=[]"
      ],
      "execution_count": null,
      "outputs": [
        {
          "output_type": "stream",
          "text": [
            "time: 1.35 ms (started: 2021-06-02 13:14:10 +00:00)\n"
          ],
          "name": "stdout"
        }
      ]
    },
    {
      "cell_type": "code",
      "metadata": {
        "id": "8UGBZdk3odZk",
        "colab": {
          "base_uri": "https://localhost:8080/"
        },
        "outputId": "b5ea3822-9129-4b20-eaf8-4d241d05a825"
      },
      "source": [
        "for i in range(4,11):\n",
        "    kmeans = KMeans(n_clusters= i, init='k-means++', random_state=0)\n",
        "    kmeans.fit(features_df)\n",
        "    wcss.append(kmeans.inertia_)"
      ],
      "execution_count": null,
      "outputs": [
        {
          "output_type": "stream",
          "text": [
            "time: 1.61 s (started: 2021-06-02 13:14:10 +00:00)\n"
          ],
          "name": "stdout"
        }
      ]
    },
    {
      "cell_type": "code",
      "metadata": {
        "colab": {
          "base_uri": "https://localhost:8080/",
          "height": 312
        },
        "id": "HOW-eD_1ofzL",
        "outputId": "d15be352-e493-402e-efdc-4f0425bc881f"
      },
      "source": [
        "#Visualizing the ELBOW method to get the optimal value of K \n",
        "plt.plot(range(4,11), wcss)\n",
        "plt.title('The Elbow Method')\n",
        "plt.xlabel('number of clusters')\n",
        "plt.ylabel('wcss')\n",
        "plt.show()"
      ],
      "execution_count": null,
      "outputs": [
        {
          "output_type": "display_data",
          "data": {
            "image/png": "[encoded data removed]",
            "text/plain": [
              "<Figure size 432x288 with 1 Axes>"
            ]
          },
          "metadata": {
            "tags": [],
            "needs_background": "light"
          }
        },
        {
          "output_type": "stream",
          "text": [
            "time: 300 ms (started: 2021-06-02 13:14:12 +00:00)\n"
          ],
          "name": "stdout"
        }
      ]
    },
    {
      "cell_type": "markdown",
      "metadata": {
        "id": "YfkLbkhioiR2"
      },
      "source": [
        "## K-Mean Methods"
      ]
    },
    {
      "cell_type": "code",
      "metadata": {
        "id": "4lFIYVQLHeEr",
        "colab": {
          "base_uri": "https://localhost:8080/"
        },
        "outputId": "9fcecdc7-f965-499c-ca9c-027167507524"
      },
      "source": [
        "#to initialize and determine the starting centroids of the clusters\n",
        "#so if the k-mean code re-run again, it won't change the staring centroids\n",
        "tf.compat.v1.random.set_random_seed(1234)"
      ],
      "execution_count": null,
      "outputs": [
        {
          "output_type": "stream",
          "text": [
            "time: 6.63 ms (started: 2021-06-02 13:14:12 +00:00)\n"
          ],
          "name": "stdout"
        }
      ]
    },
    {
      "cell_type": "code",
      "metadata": {
        "colab": {
          "base_uri": "https://localhost:8080/"
        },
        "id": "OoWYrBotzcJJ",
        "outputId": "2deb7d22-d960-4421-e681-e6a156dbe75d"
      },
      "source": [
        "#set training data\n",
        "x_train = np.array(features_df.iloc[:, :], dtype='float32')\n",
        "\n",
        "print(x_train)"
      ],
      "execution_count": null,
      "outputs": [
        {
          "output_type": "stream",
          "text": [
            "[[1. 0. 0. ... 0. 0. 3.]\n",
            " [4. 7. 2. ... 3. 2. 0.]\n",
            " [4. 5. 2. ... 0. 0. 0.]\n",
            " ...\n",
            " [6. 3. 3. ... 2. 1. 1.]\n",
            " [4. 7. 1. ... 2. 1. 1.]\n",
            " [4. 1. 0. ... 0. 0. 2.]]\n",
            "time: 4.28 ms (started: 2021-06-02 13:14:12 +00:00)\n"
          ],
          "name": "stdout"
        }
      ]
    },
    {
      "cell_type": "code",
      "metadata": {
        "id": "vt54n6fP0YLJ",
        "colab": {
          "base_uri": "https://localhost:8080/"
        },
        "outputId": "a3d3cacb-75db-47a5-88aa-92f24f41f091"
      },
      "source": [
        "def kmeans(x, n_features, n_clusters, n_max_steps=10000, early_stop=0.0):\n",
        "  input = tf.constant(x, dtype=tf.float32)\n",
        "  centroids = tf.Variable(tf.slice(tf.random.shuffle(input), [0, 0], [n_clusters, -1]))\n",
        "  old_centroids = tf.Variable(tf.zeros([n_clusters, n_features]), dtype=tf.float32)\n",
        "  centroid_distance = tf.Variable(tf.zeros([n_clusters, n_features]))\n",
        "  expanded = tf.expand_dims(input, 0)\n",
        "  expanded_centroids = tf.expand_dims(centroids, 1)\n",
        "\n",
        "  #count distances\n",
        "  distances = tf.reduce_sum(tf.square(tf.subtract(expanded, expanded_centroids)), 2)\n",
        "\n",
        "  clusters = tf.argmin(distances, 0)\n",
        "\n",
        "  means = tf.concat([tf.reduce_mean(\n",
        "      tf.gather(input, tf.reshape(tf.where(tf.equal(clusters, c)), [1, -1])),\n",
        "      reduction_indices = [1]) for c in range(n_clusters)], 0)\n",
        "  \n",
        "  save_old_centroids = tf.assign(old_centroids, centroids)\n",
        "\n",
        "  #centroid updates\n",
        "  update_centroids = tf.assign(centroids, means)\n",
        "  init_op = tf.global_variables_initializer()\n",
        "\n",
        "  #training parameters that required\n",
        "  performance = tf.assign(centroid_distance, tf.subtract(centroids, old_centroids))\n",
        "  check_stop = tf.reduce_sum(tf.abs(performance))\n",
        "\n",
        "  with tf.Session() as sess:\n",
        "    sess.run(init_op)\n",
        "    for step in range(n_max_steps):\n",
        "      sess.run(save_old_centroids)\n",
        "      _, centroid_values, clusters_values = sess.run(\n",
        "          [update_centroids, centroids, clusters])\n",
        "      sess.run(check_stop)\n",
        "      current_stop_coefficient = check_stop.eval()\n",
        "      if current_stop_coefficient <= early_stop:\n",
        "        break\n",
        "  return centroid_values, clusters_values"
      ],
      "execution_count": null,
      "outputs": [
        {
          "output_type": "stream",
          "text": [
            "time: 31.7 ms (started: 2021-06-02 13:14:12 +00:00)\n"
          ],
          "name": "stdout"
        }
      ]
    },
    {
      "cell_type": "code",
      "metadata": {
        "colab": {
          "base_uri": "https://localhost:8080/"
        },
        "id": "QMRnLti-Kjb4",
        "outputId": "43b40556-2569-42e3-949f-1bd7048cc757"
      },
      "source": [
        "#clustering\n",
        "centers, predicted_cluster = kmeans(x_train, len(x_train[0]), 8) #(x, n_features, n_clusters)"
      ],
      "execution_count": null,
      "outputs": [
        {
          "output_type": "stream",
          "text": [
            "WARNING:tensorflow:From <ipython-input-21-9ddda865ebfa>:16: where (from tensorflow.python.ops.array_ops) is deprecated and will be removed in a future version.\n",
            "Instructions for updating:\n",
            "Use tf.where in 2.0, which has the same broadcast rule as np.where\n",
            "time: 500 ms (started: 2021-06-02 13:14:12 +00:00)\n"
          ],
          "name": "stdout"
        }
      ]
    },
    {
      "cell_type": "code",
      "metadata": {
        "colab": {
          "base_uri": "https://localhost:8080/"
        },
        "id": "EDfNqNcAa-j4",
        "outputId": "9ddc1790-4939-43b6-c3a0-e33ca4eed9d1"
      },
      "source": [
        "#centroids\n",
        "print(centers)"
      ],
      "execution_count": null,
      "outputs": [
        {
          "output_type": "stream",
          "text": [
            "[[1.5955414  1.5159236  1.4681529  4.         1.0127388  0.9522293\n",
            "  1.5477707  1.589172   1.0350318  0.5254777  1.4490446 ]\n",
            " [4.9561405  1.6096492  1.4824561  4.004386   1.0219299  0.96929824\n",
            "  1.4736842  1.5087719  0.9649123  0.53070176 1.5482457 ]\n",
            " [5.0572686  5.431718   1.5947137  0.9911894  0.9471366  0.97356826\n",
            "  1.5066079  1.4713657  0.95594716 0.4581498  1.4713657 ]\n",
            " [4.4885716  1.4485714  1.4428571  0.9942857  0.9628571  1.0514286\n",
            "  1.5028571  1.58       1.0628572  0.4857143  1.5542858 ]\n",
            " [0.96581197 1.5299145  1.517094   0.94871795 0.9529914  1.0555556\n",
            "  1.4401709  1.5811965  1.0085471  0.47435898 1.5384616 ]\n",
            " [4.4425087  5.491289   1.4912893  3.9965158  0.9547038  1.0243902\n",
            "  1.5121951  1.3658537  0.989547   0.43554008 1.5853659 ]\n",
            " [1.2226027  5.520548   1.4246576  0.9520548  0.99657536 1.1027397\n",
            "  1.5102739  1.4075342  1.0273973  0.5273973  1.4965754 ]\n",
            " [0.95348835 5.5534883  1.4372092  3.9023256  1.1023256  0.95348835\n",
            "  1.4883721  1.5395349  1.0790697  0.4883721  1.2790698 ]]\n",
            "time: 2.41 ms (started: 2021-06-02 13:14:13 +00:00)\n"
          ],
          "name": "stdout"
        }
      ]
    },
    {
      "cell_type": "code",
      "metadata": {
        "colab": {
          "base_uri": "https://localhost:8080/"
        },
        "id": "LjG-mKkIxVDC",
        "outputId": "9f6d90fd-45aa-46a6-aa32-2dd14199c669"
      },
      "source": [
        "#predicted cluster\n",
        "print(predicted_cluster)"
      ],
      "execution_count": null,
      "outputs": [
        {
          "output_type": "stream",
          "text": [
            "[0 5 5 ... 3 5 3]\n",
            "time: 1.61 ms (started: 2021-06-02 13:14:13 +00:00)\n"
          ],
          "name": "stdout"
        }
      ]
    },
    {
      "cell_type": "code",
      "metadata": {
        "id": "jdRQenrF9BFw",
        "colab": {
          "base_uri": "https://localhost:8080/"
        },
        "outputId": "bcf171aa-4718-4c29-9318-bc0649122447"
      },
      "source": [
        "#input predicted cluster to dataframe\n",
        "compute_df[\"cluster\"] = predicted_cluster\n",
        "compute_df[\"cluster\"] = compute_df[\"cluster\"].astype(\"category\")"
      ],
      "execution_count": null,
      "outputs": [
        {
          "output_type": "stream",
          "text": [
            "time: 8.53 ms (started: 2021-06-02 13:14:13 +00:00)\n"
          ],
          "name": "stdout"
        }
      ]
    },
    {
      "cell_type": "markdown",
      "metadata": {
        "id": "BowXKcpVz66p"
      },
      "source": [
        "## SAW Methods"
      ]
    },
    {
      "cell_type": "markdown",
      "metadata": {
        "id": "n7szzXEOHxo4"
      },
      "source": [
        "### Normalize Function"
      ]
    },
    {
      "cell_type": "code",
      "metadata": {
        "id": "RqtNaz6tNHtS",
        "colab": {
          "base_uri": "https://localhost:8080/"
        },
        "outputId": "7c135cb2-15a2-49e9-ff5d-e978a9289809"
      },
      "source": [
        "#find the maximum value = column of matrix\n",
        "def max_value_columns(matrix):\n",
        "  max_column = []\n",
        "  for i in range(len(matrix[0])):\n",
        "    max_column.append(np.max(matrix[:,i]))\n",
        "  \n",
        "  return max_column"
      ],
      "execution_count": null,
      "outputs": [
        {
          "output_type": "stream",
          "text": [
            "time: 3.43 ms (started: 2021-06-02 13:14:13 +00:00)\n"
          ],
          "name": "stdout"
        }
      ]
    },
    {
      "cell_type": "code",
      "metadata": {
        "id": "_iTlr4eZjk4n",
        "colab": {
          "base_uri": "https://localhost:8080/"
        },
        "outputId": "eb8854c6-b728-4376-8641-738324b128d8"
      },
      "source": [
        "def normalize_columns(matrix, max_col):\n",
        "  normalize_matrix = matrix\n",
        "  for i in range(len(matrix)):\n",
        "    for j in range(len(matrix[0])):\n",
        "      normalize_matrix[i][j] = normalize_matrix[i][j] / max_col[j]\n",
        "\n",
        "  return normalize_matrix"
      ],
      "execution_count": null,
      "outputs": [
        {
          "output_type": "stream",
          "text": [
            "time: 3.92 ms (started: 2021-06-02 13:14:13 +00:00)\n"
          ],
          "name": "stdout"
        }
      ]
    },
    {
      "cell_type": "code",
      "metadata": {
        "id": "H19AEzHY4_hs",
        "colab": {
          "base_uri": "https://localhost:8080/"
        },
        "outputId": "66e43e46-5356-4f6b-a633-db6526e07222"
      },
      "source": [
        "# find the maximum value - row of matrix\n",
        "def max_value_rows(matrix):\n",
        "  max_row = []\n",
        "  for i in range(len(matrix)):\n",
        "    max_row.append(np.max(matrix[i]))\n",
        "  \n",
        "  return max_row"
      ],
      "execution_count": null,
      "outputs": [
        {
          "output_type": "stream",
          "text": [
            "time: 3.24 ms (started: 2021-06-02 13:14:13 +00:00)\n"
          ],
          "name": "stdout"
        }
      ]
    },
    {
      "cell_type": "code",
      "metadata": {
        "id": "q5yP5mTjjirT",
        "colab": {
          "base_uri": "https://localhost:8080/"
        },
        "outputId": "8e189df7-1541-443a-b515-df49cf6ba144"
      },
      "source": [
        "def normalize_rows(matrix, max_row):\n",
        "  normalize_matrix = matrix\n",
        "  for i in range(len(matrix)):\n",
        "    for j in range(len(matrix[0])):\n",
        "      normalize_matrix[i][j] = normalize_matrix[i][j] / max_row[i]\n",
        "\n",
        "  return normalize_matrix"
      ],
      "execution_count": null,
      "outputs": [
        {
          "output_type": "stream",
          "text": [
            "time: 4.08 ms (started: 2021-06-02 13:14:13 +00:00)\n"
          ],
          "name": "stdout"
        }
      ]
    },
    {
      "cell_type": "markdown",
      "metadata": {
        "id": "3xG7KI7n62Wl"
      },
      "source": [
        "### Multiply Features Function"
      ]
    },
    {
      "cell_type": "code",
      "metadata": {
        "id": "ee4DXftmftDp",
        "colab": {
          "base_uri": "https://localhost:8080/"
        },
        "outputId": "783f53a1-cb72-456e-eab3-8323bb7eba54"
      },
      "source": [
        "def result(matrix, weight):\n",
        "  matrix_mul = []\n",
        "  result = [0] * len(matrix)\n",
        "  for i in range(len(matrix)):\n",
        "    prod = [a * b for a, b in zip(matrix[i], weight)]\n",
        "    matrix_mul.append(prod)\n",
        "\n",
        "  for i in range(len(matrix_mul)):\n",
        "    for j in range(len(matrix_mul[0])):\n",
        "      result[i] += matrix_mul[i][j]\n",
        "\n",
        "  return result"
      ],
      "execution_count": null,
      "outputs": [
        {
          "output_type": "stream",
          "text": [
            "time: 8.51 ms (started: 2021-06-02 13:14:13 +00:00)\n"
          ],
          "name": "stdout"
        }
      ]
    },
    {
      "cell_type": "code",
      "metadata": {
        "id": "eN96QrPcoI4h",
        "colab": {
          "base_uri": "https://localhost:8080/"
        },
        "outputId": "8be397d9-f159-4094-ecee-804f32a4dc21"
      },
      "source": [
        "def indexing(matrix, have_index=False, index=[]):\n",
        "  if have_index==True:\n",
        "    if len(index)==len(matrix):\n",
        "      return [matrix, index]\n",
        "    else:\n",
        "      raise Exception(\"index salah\")\n",
        "  else:\n",
        "    return [matrix, list(range(len(matrix)))]"
      ],
      "execution_count": null,
      "outputs": [
        {
          "output_type": "stream",
          "text": [
            "time: 4.76 ms (started: 2021-06-02 13:14:13 +00:00)\n"
          ],
          "name": "stdout"
        }
      ]
    },
    {
      "cell_type": "markdown",
      "metadata": {
        "id": "q76ur60-6S8D"
      },
      "source": [
        "### Ranking Function"
      ]
    },
    {
      "cell_type": "code",
      "metadata": {
        "id": "vv3ZjgQfj_9j",
        "colab": {
          "base_uri": "https://localhost:8080/"
        },
        "outputId": "55c3e676-9f17-4a87-fc99-0271363e14d3"
      },
      "source": [
        "def ranking(data):\n",
        "  sorted = data\n",
        "  for i in range(len(data[0])):\n",
        "    for j in range(i, len(data[0])):\n",
        "      if sorted[0][i] < sorted[0][j]:\n",
        "        sorted[0][i], sorted[0][j] = sorted[0][j], sorted[0][i]\n",
        "        sorted[1][i], sorted[1][j] = sorted[1][j], sorted[1][i]\n",
        "  \n",
        "  return sorted"
      ],
      "execution_count": null,
      "outputs": [
        {
          "output_type": "stream",
          "text": [
            "time: 7.61 ms (started: 2021-06-02 13:14:13 +00:00)\n"
          ],
          "name": "stdout"
        }
      ]
    },
    {
      "cell_type": "code",
      "metadata": {
        "id": "nTe5atv7jyup",
        "colab": {
          "base_uri": "https://localhost:8080/"
        },
        "outputId": "35532ffc-89c9-4d24-a26c-c3bc03d62365"
      },
      "source": [
        "def saw(matrix, weight, have_index=False, index=[]):\n",
        "  max_column = max_value_columns(matrix)\n",
        "  normal_matrix = normalize_columns(matrix, max_column)\n",
        "  max_row = max_value_rows(normal_matrix)\n",
        "  normal_matrix = normalize_rows(normal_matrix, max_row)\n",
        "\n",
        "  res = result(matrix, weight)\n",
        "  res = indexing(res, have_index, index)\n",
        "  sorted_res = ranking(res)\n",
        "\n",
        "  return sorted_res"
      ],
      "execution_count": null,
      "outputs": [
        {
          "output_type": "stream",
          "text": [
            "time: 7.03 ms (started: 2021-06-02 13:14:13 +00:00)\n"
          ],
          "name": "stdout"
        }
      ]
    },
    {
      "cell_type": "code",
      "metadata": {
        "id": "2BmfAIoavADc",
        "colab": {
          "base_uri": "https://localhost:8080/"
        },
        "outputId": "30f3e603-57ff-4622-8c62-1f596e279442"
      },
      "source": [
        "#Features Weight\n",
        "weight = [0.15, 0.058, 0.15, 0.15, 0.15, 0.057, 0.057, 0.057, 0.057, 0.057, 0.057]\n",
        "cluster_rank = saw(centers, weight)"
      ],
      "execution_count": null,
      "outputs": [
        {
          "output_type": "stream",
          "text": [
            "time: 3.66 ms (started: 2021-06-02 13:14:13 +00:00)\n"
          ],
          "name": "stdout"
        }
      ]
    },
    {
      "cell_type": "code",
      "metadata": {
        "colab": {
          "base_uri": "https://localhost:8080/"
        },
        "id": "1eNbhpjUJyy-",
        "outputId": "21898ef9-0828-4b5d-929f-a21a4254dfdb"
      },
      "source": [
        "\n",
        "print(cluster_rank)"
      ],
      "execution_count": null,
      "outputs": [
        {
          "output_type": "stream",
          "text": [
            "[[0.922686050951481, 0.9144380860924722, 0.8339265663325787, 0.8324011666476726, 0.8153286480307581, 0.7873470212519169, 0.7270233708322049, 0.6798017095327378], [5, 1, 2, 7, 0, 3, 6, 4]]\n",
            "time: 2.48 ms (started: 2021-06-02 13:14:13 +00:00)\n"
          ],
          "name": "stdout"
        }
      ]
    },
    {
      "cell_type": "markdown",
      "metadata": {
        "id": "-B_Ixr9U1KiQ"
      },
      "source": [
        "### Grouping of Social Assistance Recipients"
      ]
    },
    {
      "cell_type": "markdown",
      "metadata": {
        "id": "B-N6LcLYHQjd"
      },
      "source": [
        "Assumption: \n",
        "- Government giving Rp 500.000.000 budget for social assistance\n",
        "- Based on Peraturan Gubernur Jawa Barat No 55 Tahun 2020: each person can get Rp 500.000\n",
        "- (Rp 350.000 - non-cash; Rp 150.000 - cash)\n",
        "- So, there will be 1000 people who will get social assistance\n",
        "\n",
        "notes: this scenario can be change as needed"
      ]
    },
    {
      "cell_type": "code",
      "metadata": {
        "colab": {
          "base_uri": "https://localhost:8080/"
        },
        "id": "y80LEvtKEeH0",
        "outputId": "ac58210a-b866-4c92-bcd5-74208e33d89f"
      },
      "source": [
        "#Count how much person in each cluster\n",
        "value_cluster = compute_df['cluster'].value_counts(sort=False)\n",
        "print(value_cluster)"
      ],
      "execution_count": null,
      "outputs": [
        {
          "output_type": "stream",
          "text": [
            "0    314\n",
            "1    228\n",
            "2    227\n",
            "3    350\n",
            "4    234\n",
            "5    287\n",
            "6    292\n",
            "7    215\n",
            "Name: cluster, dtype: int64\n",
            "time: 5.13 ms (started: 2021-06-02 13:14:13 +00:00)\n"
          ],
          "name": "stdout"
        }
      ]
    },
    {
      "cell_type": "code",
      "metadata": {
        "id": "CmL0gewTPwfP",
        "colab": {
          "base_uri": "https://localhost:8080/"
        },
        "outputId": "0c2ef8a6-c4f1-43a3-9c2a-8c1788f24188"
      },
      "source": [
        "def add_status_bansos(data, cluster_rank, person_per_cluster, budget=500000000, help_per_person=500000):\n",
        "  n_person = int(budget / help_per_person)\n",
        "  data['status_bansos'] = 'rejected'\n",
        "\n",
        "  for i in range(len(cluster_rank[0])):\n",
        "    #print(n_person)\n",
        "    if person_per_cluster[cluster_rank[1][i]] <= n_person:\n",
        "      data.loc[(data['cluster']==cluster_rank[1][i]), 'status_bansos'] = 'accepted'\n",
        "      n_person -= person_per_cluster[cluster_rank[1][i]]\n",
        "    else:\n",
        "      remaining_cluster = data[(data['cluster']==cluster_rank[1][i])]\n",
        "      tmp = remaining_cluster.values\n",
        "      index = tmp[:,0] #NIK masukin ke index\n",
        "      matrix = tmp[:, 1:len(tmp[0])-2]\n",
        "      # matrix = np.delete(matrix, 0, 1) #ambil nilai 11 parameter\n",
        "      person_rank = saw(matrix, weight, have_index=True, index=index)\n",
        "      for j in range(n_person):\n",
        "        data.loc[data['nik']==person_rank[1][j], 'status_bansos'] = 'accepted'\n",
        "      break\n",
        "    \n",
        "  return data"
      ],
      "execution_count": null,
      "outputs": [
        {
          "output_type": "stream",
          "text": [
            "time: 42.4 ms (started: 2021-06-02 13:14:13 +00:00)\n"
          ],
          "name": "stdout"
        }
      ]
    },
    {
      "cell_type": "code",
      "metadata": {
        "id": "6-gTzd9YdCIK",
        "colab": {
          "base_uri": "https://localhost:8080/"
        },
        "outputId": "a75f3b14-ae40-4235-826d-a529b41e8a28"
      },
      "source": [
        "compute_df = add_status_bansos(compute_df, cluster_rank, value_cluster)"
      ],
      "execution_count": null,
      "outputs": [
        {
          "output_type": "stream",
          "text": [
            "time: 96.3 ms (started: 2021-06-02 13:14:13 +00:00)\n"
          ],
          "name": "stdout"
        }
      ]
    },
    {
      "cell_type": "code",
      "metadata": {
        "id": "TlHMj6bZtm4-",
        "colab": {
          "base_uri": "https://localhost:8080/",
          "height": 456
        },
        "outputId": "3f97b08f-f679-4e7b-90a7-cbe8d560ddf6"
      },
      "source": [
        "compute_df.loc[(compute_df['status_bansos']=='accepted')]"
      ],
      "execution_count": null,
      "outputs": [
        {
          "output_type": "execute_result",
          "data": {
            "text/html": [
              "<div>\n",
              "<style scoped>\n",
              "    .dataframe tbody tr th:only-of-type {\n",
              "        vertical-align: middle;\n",
              "    }\n",
              "\n",
              "    .dataframe tbody tr th {\n",
              "        vertical-align: top;\n",
              "    }\n",
              "\n",
              "    .dataframe thead th {\n",
              "        text-align: right;\n",
              "    }\n",
              "</style>\n",
              "<table border=\"1\" class=\"dataframe\">\n",
              "  <thead>\n",
              "    <tr style=\"text-align: right;\">\n",
              "      <th></th>\n",
              "      <th>nik</th>\n",
              "      <th>tanggungan_keluarga</th>\n",
              "      <th>pendidikan</th>\n",
              "      <th>status</th>\n",
              "      <th>gaji</th>\n",
              "      <th>kondisi_kesehatan</th>\n",
              "      <th>atap</th>\n",
              "      <th>dinding</th>\n",
              "      <th>lantai</th>\n",
              "      <th>sumber_penerangan</th>\n",
              "      <th>sumber_air</th>\n",
              "      <th>luas_rumah</th>\n",
              "      <th>cluster</th>\n",
              "      <th>status_bansos</th>\n",
              "    </tr>\n",
              "  </thead>\n",
              "  <tbody>\n",
              "    <tr>\n",
              "      <th>1</th>\n",
              "      <td>3204166409100001</td>\n",
              "      <td>4</td>\n",
              "      <td>7</td>\n",
              "      <td>2</td>\n",
              "      <td>3</td>\n",
              "      <td>0</td>\n",
              "      <td>2</td>\n",
              "      <td>1</td>\n",
              "      <td>2</td>\n",
              "      <td>3</td>\n",
              "      <td>2</td>\n",
              "      <td>0</td>\n",
              "      <td>5</td>\n",
              "      <td>accepted</td>\n",
              "    </tr>\n",
              "    <tr>\n",
              "      <th>3</th>\n",
              "      <td>3204164107100003</td>\n",
              "      <td>4</td>\n",
              "      <td>5</td>\n",
              "      <td>2</td>\n",
              "      <td>5</td>\n",
              "      <td>2</td>\n",
              "      <td>0</td>\n",
              "      <td>3</td>\n",
              "      <td>3</td>\n",
              "      <td>0</td>\n",
              "      <td>0</td>\n",
              "      <td>0</td>\n",
              "      <td>5</td>\n",
              "      <td>accepted</td>\n",
              "    </tr>\n",
              "    <tr>\n",
              "      <th>7</th>\n",
              "      <td>3204160708100007</td>\n",
              "      <td>6</td>\n",
              "      <td>4</td>\n",
              "      <td>0</td>\n",
              "      <td>2</td>\n",
              "      <td>0</td>\n",
              "      <td>1</td>\n",
              "      <td>3</td>\n",
              "      <td>3</td>\n",
              "      <td>1</td>\n",
              "      <td>0</td>\n",
              "      <td>3</td>\n",
              "      <td>2</td>\n",
              "      <td>accepted</td>\n",
              "    </tr>\n",
              "    <tr>\n",
              "      <th>13</th>\n",
              "      <td>3204164107100013</td>\n",
              "      <td>1</td>\n",
              "      <td>4</td>\n",
              "      <td>2</td>\n",
              "      <td>3</td>\n",
              "      <td>1</td>\n",
              "      <td>0</td>\n",
              "      <td>2</td>\n",
              "      <td>2</td>\n",
              "      <td>1</td>\n",
              "      <td>1</td>\n",
              "      <td>0</td>\n",
              "      <td>7</td>\n",
              "      <td>accepted</td>\n",
              "    </tr>\n",
              "    <tr>\n",
              "      <th>14</th>\n",
              "      <td>3204164808100014</td>\n",
              "      <td>2</td>\n",
              "      <td>5</td>\n",
              "      <td>1</td>\n",
              "      <td>3</td>\n",
              "      <td>0</td>\n",
              "      <td>2</td>\n",
              "      <td>0</td>\n",
              "      <td>2</td>\n",
              "      <td>0</td>\n",
              "      <td>0</td>\n",
              "      <td>1</td>\n",
              "      <td>7</td>\n",
              "      <td>accepted</td>\n",
              "    </tr>\n",
              "    <tr>\n",
              "      <th>...</th>\n",
              "      <td>...</td>\n",
              "      <td>...</td>\n",
              "      <td>...</td>\n",
              "      <td>...</td>\n",
              "      <td>...</td>\n",
              "      <td>...</td>\n",
              "      <td>...</td>\n",
              "      <td>...</td>\n",
              "      <td>...</td>\n",
              "      <td>...</td>\n",
              "      <td>...</td>\n",
              "      <td>...</td>\n",
              "      <td>...</td>\n",
              "      <td>...</td>\n",
              "    </tr>\n",
              "    <tr>\n",
              "      <th>2777</th>\n",
              "      <td>3204374101102777</td>\n",
              "      <td>2</td>\n",
              "      <td>1</td>\n",
              "      <td>3</td>\n",
              "      <td>5</td>\n",
              "      <td>2</td>\n",
              "      <td>0</td>\n",
              "      <td>3</td>\n",
              "      <td>2</td>\n",
              "      <td>1</td>\n",
              "      <td>1</td>\n",
              "      <td>3</td>\n",
              "      <td>0</td>\n",
              "      <td>accepted</td>\n",
              "    </tr>\n",
              "    <tr>\n",
              "      <th>2778</th>\n",
              "      <td>3204374708102778</td>\n",
              "      <td>4</td>\n",
              "      <td>3</td>\n",
              "      <td>0</td>\n",
              "      <td>4</td>\n",
              "      <td>2</td>\n",
              "      <td>1</td>\n",
              "      <td>1</td>\n",
              "      <td>3</td>\n",
              "      <td>1</td>\n",
              "      <td>1</td>\n",
              "      <td>0</td>\n",
              "      <td>1</td>\n",
              "      <td>accepted</td>\n",
              "    </tr>\n",
              "    <tr>\n",
              "      <th>2781</th>\n",
              "      <td>3204370610102781</td>\n",
              "      <td>5</td>\n",
              "      <td>4</td>\n",
              "      <td>1</td>\n",
              "      <td>3</td>\n",
              "      <td>0</td>\n",
              "      <td>0</td>\n",
              "      <td>1</td>\n",
              "      <td>0</td>\n",
              "      <td>0</td>\n",
              "      <td>1</td>\n",
              "      <td>0</td>\n",
              "      <td>5</td>\n",
              "      <td>accepted</td>\n",
              "    </tr>\n",
              "    <tr>\n",
              "      <th>2785</th>\n",
              "      <td>3204374207102785</td>\n",
              "      <td>4</td>\n",
              "      <td>3</td>\n",
              "      <td>2</td>\n",
              "      <td>3</td>\n",
              "      <td>0</td>\n",
              "      <td>1</td>\n",
              "      <td>1</td>\n",
              "      <td>3</td>\n",
              "      <td>2</td>\n",
              "      <td>0</td>\n",
              "      <td>3</td>\n",
              "      <td>1</td>\n",
              "      <td>accepted</td>\n",
              "    </tr>\n",
              "    <tr>\n",
              "      <th>2788</th>\n",
              "      <td>3204375903102788</td>\n",
              "      <td>4</td>\n",
              "      <td>7</td>\n",
              "      <td>1</td>\n",
              "      <td>4</td>\n",
              "      <td>1</td>\n",
              "      <td>2</td>\n",
              "      <td>1</td>\n",
              "      <td>0</td>\n",
              "      <td>2</td>\n",
              "      <td>1</td>\n",
              "      <td>1</td>\n",
              "      <td>5</td>\n",
              "      <td>accepted</td>\n",
              "    </tr>\n",
              "  </tbody>\n",
              "</table>\n",
              "<p>1000 rows × 14 columns</p>\n",
              "</div>"
            ],
            "text/plain": [
              "                   nik  tanggungan_keluarga  ...  cluster  status_bansos\n",
              "1     3204166409100001                    4  ...        5       accepted\n",
              "3     3204164107100003                    4  ...        5       accepted\n",
              "7     3204160708100007                    6  ...        2       accepted\n",
              "13    3204164107100013                    1  ...        7       accepted\n",
              "14    3204164808100014                    2  ...        7       accepted\n",
              "...                ...                  ...  ...      ...            ...\n",
              "2777  3204374101102777                    2  ...        0       accepted\n",
              "2778  3204374708102778                    4  ...        1       accepted\n",
              "2781  3204370610102781                    5  ...        5       accepted\n",
              "2785  3204374207102785                    4  ...        1       accepted\n",
              "2788  3204375903102788                    4  ...        5       accepted\n",
              "\n",
              "[1000 rows x 14 columns]"
            ]
          },
          "metadata": {
            "tags": []
          },
          "execution_count": 39
        },
        {
          "output_type": "stream",
          "text": [
            "time: 40.4 ms (started: 2021-06-02 13:14:13 +00:00)\n"
          ],
          "name": "stdout"
        }
      ]
    },
    {
      "cell_type": "code",
      "metadata": {
        "colab": {
          "base_uri": "https://localhost:8080/",
          "height": 456
        },
        "id": "xSvIIEplbWah",
        "outputId": "eadd31f4-046b-4c36-f521-e2aa3b1d5bf3"
      },
      "source": [
        "compute_df"
      ],
      "execution_count": null,
      "outputs": [
        {
          "output_type": "execute_result",
          "data": {
            "text/html": [
              "<div>\n",
              "<style scoped>\n",
              "    .dataframe tbody tr th:only-of-type {\n",
              "        vertical-align: middle;\n",
              "    }\n",
              "\n",
              "    .dataframe tbody tr th {\n",
              "        vertical-align: top;\n",
              "    }\n",
              "\n",
              "    .dataframe thead th {\n",
              "        text-align: right;\n",
              "    }\n",
              "</style>\n",
              "<table border=\"1\" class=\"dataframe\">\n",
              "  <thead>\n",
              "    <tr style=\"text-align: right;\">\n",
              "      <th></th>\n",
              "      <th>nik</th>\n",
              "      <th>tanggungan_keluarga</th>\n",
              "      <th>pendidikan</th>\n",
              "      <th>status</th>\n",
              "      <th>gaji</th>\n",
              "      <th>kondisi_kesehatan</th>\n",
              "      <th>atap</th>\n",
              "      <th>dinding</th>\n",
              "      <th>lantai</th>\n",
              "      <th>sumber_penerangan</th>\n",
              "      <th>sumber_air</th>\n",
              "      <th>luas_rumah</th>\n",
              "      <th>cluster</th>\n",
              "      <th>status_bansos</th>\n",
              "    </tr>\n",
              "  </thead>\n",
              "  <tbody>\n",
              "    <tr>\n",
              "      <th>0</th>\n",
              "      <td>3204166610100000</td>\n",
              "      <td>1</td>\n",
              "      <td>0</td>\n",
              "      <td>0</td>\n",
              "      <td>3</td>\n",
              "      <td>2</td>\n",
              "      <td>1</td>\n",
              "      <td>0</td>\n",
              "      <td>3</td>\n",
              "      <td>0</td>\n",
              "      <td>0</td>\n",
              "      <td>3</td>\n",
              "      <td>0</td>\n",
              "      <td>rejected</td>\n",
              "    </tr>\n",
              "    <tr>\n",
              "      <th>1</th>\n",
              "      <td>3204166409100001</td>\n",
              "      <td>4</td>\n",
              "      <td>7</td>\n",
              "      <td>2</td>\n",
              "      <td>3</td>\n",
              "      <td>0</td>\n",
              "      <td>2</td>\n",
              "      <td>1</td>\n",
              "      <td>2</td>\n",
              "      <td>3</td>\n",
              "      <td>2</td>\n",
              "      <td>0</td>\n",
              "      <td>5</td>\n",
              "      <td>accepted</td>\n",
              "    </tr>\n",
              "    <tr>\n",
              "      <th>3</th>\n",
              "      <td>3204164107100003</td>\n",
              "      <td>4</td>\n",
              "      <td>5</td>\n",
              "      <td>2</td>\n",
              "      <td>5</td>\n",
              "      <td>2</td>\n",
              "      <td>0</td>\n",
              "      <td>3</td>\n",
              "      <td>3</td>\n",
              "      <td>0</td>\n",
              "      <td>0</td>\n",
              "      <td>0</td>\n",
              "      <td>5</td>\n",
              "      <td>accepted</td>\n",
              "    </tr>\n",
              "    <tr>\n",
              "      <th>6</th>\n",
              "      <td>3204164709100006</td>\n",
              "      <td>0</td>\n",
              "      <td>1</td>\n",
              "      <td>2</td>\n",
              "      <td>5</td>\n",
              "      <td>1</td>\n",
              "      <td>1</td>\n",
              "      <td>1</td>\n",
              "      <td>2</td>\n",
              "      <td>2</td>\n",
              "      <td>1</td>\n",
              "      <td>1</td>\n",
              "      <td>0</td>\n",
              "      <td>rejected</td>\n",
              "    </tr>\n",
              "    <tr>\n",
              "      <th>7</th>\n",
              "      <td>3204160708100007</td>\n",
              "      <td>6</td>\n",
              "      <td>4</td>\n",
              "      <td>0</td>\n",
              "      <td>2</td>\n",
              "      <td>0</td>\n",
              "      <td>1</td>\n",
              "      <td>3</td>\n",
              "      <td>3</td>\n",
              "      <td>1</td>\n",
              "      <td>0</td>\n",
              "      <td>3</td>\n",
              "      <td>2</td>\n",
              "      <td>accepted</td>\n",
              "    </tr>\n",
              "    <tr>\n",
              "      <th>...</th>\n",
              "      <td>...</td>\n",
              "      <td>...</td>\n",
              "      <td>...</td>\n",
              "      <td>...</td>\n",
              "      <td>...</td>\n",
              "      <td>...</td>\n",
              "      <td>...</td>\n",
              "      <td>...</td>\n",
              "      <td>...</td>\n",
              "      <td>...</td>\n",
              "      <td>...</td>\n",
              "      <td>...</td>\n",
              "      <td>...</td>\n",
              "      <td>...</td>\n",
              "    </tr>\n",
              "    <tr>\n",
              "      <th>2782</th>\n",
              "      <td>3204376011102782</td>\n",
              "      <td>1</td>\n",
              "      <td>6</td>\n",
              "      <td>0</td>\n",
              "      <td>2</td>\n",
              "      <td>2</td>\n",
              "      <td>1</td>\n",
              "      <td>1</td>\n",
              "      <td>1</td>\n",
              "      <td>0</td>\n",
              "      <td>1</td>\n",
              "      <td>2</td>\n",
              "      <td>6</td>\n",
              "      <td>rejected</td>\n",
              "    </tr>\n",
              "    <tr>\n",
              "      <th>2785</th>\n",
              "      <td>3204374207102785</td>\n",
              "      <td>4</td>\n",
              "      <td>3</td>\n",
              "      <td>2</td>\n",
              "      <td>3</td>\n",
              "      <td>0</td>\n",
              "      <td>1</td>\n",
              "      <td>1</td>\n",
              "      <td>3</td>\n",
              "      <td>2</td>\n",
              "      <td>0</td>\n",
              "      <td>3</td>\n",
              "      <td>1</td>\n",
              "      <td>accepted</td>\n",
              "    </tr>\n",
              "    <tr>\n",
              "      <th>2786</th>\n",
              "      <td>3204374311102786</td>\n",
              "      <td>6</td>\n",
              "      <td>3</td>\n",
              "      <td>3</td>\n",
              "      <td>2</td>\n",
              "      <td>0</td>\n",
              "      <td>0</td>\n",
              "      <td>2</td>\n",
              "      <td>0</td>\n",
              "      <td>2</td>\n",
              "      <td>1</td>\n",
              "      <td>1</td>\n",
              "      <td>3</td>\n",
              "      <td>rejected</td>\n",
              "    </tr>\n",
              "    <tr>\n",
              "      <th>2788</th>\n",
              "      <td>3204375903102788</td>\n",
              "      <td>4</td>\n",
              "      <td>7</td>\n",
              "      <td>1</td>\n",
              "      <td>4</td>\n",
              "      <td>1</td>\n",
              "      <td>2</td>\n",
              "      <td>1</td>\n",
              "      <td>0</td>\n",
              "      <td>2</td>\n",
              "      <td>1</td>\n",
              "      <td>1</td>\n",
              "      <td>5</td>\n",
              "      <td>accepted</td>\n",
              "    </tr>\n",
              "    <tr>\n",
              "      <th>2789</th>\n",
              "      <td>3204374903102789</td>\n",
              "      <td>4</td>\n",
              "      <td>1</td>\n",
              "      <td>0</td>\n",
              "      <td>1</td>\n",
              "      <td>1</td>\n",
              "      <td>1</td>\n",
              "      <td>2</td>\n",
              "      <td>1</td>\n",
              "      <td>0</td>\n",
              "      <td>0</td>\n",
              "      <td>2</td>\n",
              "      <td>3</td>\n",
              "      <td>rejected</td>\n",
              "    </tr>\n",
              "  </tbody>\n",
              "</table>\n",
              "<p>2147 rows × 14 columns</p>\n",
              "</div>"
            ],
            "text/plain": [
              "                   nik  tanggungan_keluarga  ...  cluster  status_bansos\n",
              "0     3204166610100000                    1  ...        0       rejected\n",
              "1     3204166409100001                    4  ...        5       accepted\n",
              "3     3204164107100003                    4  ...        5       accepted\n",
              "6     3204164709100006                    0  ...        0       rejected\n",
              "7     3204160708100007                    6  ...        2       accepted\n",
              "...                ...                  ...  ...      ...            ...\n",
              "2782  3204376011102782                    1  ...        6       rejected\n",
              "2785  3204374207102785                    4  ...        1       accepted\n",
              "2786  3204374311102786                    6  ...        3       rejected\n",
              "2788  3204375903102788                    4  ...        5       accepted\n",
              "2789  3204374903102789                    4  ...        3       rejected\n",
              "\n",
              "[2147 rows x 14 columns]"
            ]
          },
          "metadata": {
            "tags": []
          },
          "execution_count": 40
        },
        {
          "output_type": "stream",
          "text": [
            "time: 36.6 ms (started: 2021-06-02 13:14:13 +00:00)\n"
          ],
          "name": "stdout"
        }
      ]
    },
    {
      "cell_type": "code",
      "metadata": {
        "id": "geHgmAFCSL_S",
        "colab": {
          "base_uri": "https://localhost:8080/",
          "height": 813
        },
        "outputId": "f1302564-73f4-4067-8c30-befd3260cd1d"
      },
      "source": [
        "penduduk_df"
      ],
      "execution_count": null,
      "outputs": [
        {
          "output_type": "execute_result",
          "data": {
            "text/html": [
              "<div>\n",
              "<style scoped>\n",
              "    .dataframe tbody tr th:only-of-type {\n",
              "        vertical-align: middle;\n",
              "    }\n",
              "\n",
              "    .dataframe tbody tr th {\n",
              "        vertical-align: top;\n",
              "    }\n",
              "\n",
              "    .dataframe thead th {\n",
              "        text-align: right;\n",
              "    }\n",
              "</style>\n",
              "<table border=\"1\" class=\"dataframe\">\n",
              "  <thead>\n",
              "    <tr style=\"text-align: right;\">\n",
              "      <th></th>\n",
              "      <th>nik</th>\n",
              "      <th>nama</th>\n",
              "      <th>tanggal_lahir</th>\n",
              "      <th>tanggungan_keluarga</th>\n",
              "      <th>pendidikan</th>\n",
              "      <th>profesi</th>\n",
              "      <th>status</th>\n",
              "      <th>gaji</th>\n",
              "      <th>kota_kabupaten</th>\n",
              "      <th>kecamatan</th>\n",
              "      <th>kelurahan</th>\n",
              "      <th>alamat</th>\n",
              "      <th>kondisi_kesehatan</th>\n",
              "      <th>atap</th>\n",
              "      <th>dinding</th>\n",
              "      <th>lantai</th>\n",
              "      <th>sumber_penerangan</th>\n",
              "      <th>sumber_air</th>\n",
              "      <th>luas_rumah</th>\n",
              "      <th>status_bansos</th>\n",
              "    </tr>\n",
              "  </thead>\n",
              "  <tbody>\n",
              "    <tr>\n",
              "      <th>0</th>\n",
              "      <td>3204166610100000</td>\n",
              "      <td>RIMA MELA**</td>\n",
              "      <td>1980-01-29</td>\n",
              "      <td>1</td>\n",
              "      <td>0</td>\n",
              "      <td>17</td>\n",
              "      <td>0</td>\n",
              "      <td>3</td>\n",
              "      <td>KAB.BANDUNG</td>\n",
              "      <td>ARJASARI</td>\n",
              "      <td>ANCOLMEKAR</td>\n",
              "      <td>KP WARG*****</td>\n",
              "      <td>2</td>\n",
              "      <td>1</td>\n",
              "      <td>0</td>\n",
              "      <td>3</td>\n",
              "      <td>0</td>\n",
              "      <td>0</td>\n",
              "      <td>3</td>\n",
              "      <td>NaN</td>\n",
              "    </tr>\n",
              "    <tr>\n",
              "      <th>1</th>\n",
              "      <td>3204166409100001</td>\n",
              "      <td>CUCU</td>\n",
              "      <td>1953-08-01</td>\n",
              "      <td>4</td>\n",
              "      <td>7</td>\n",
              "      <td>9</td>\n",
              "      <td>2</td>\n",
              "      <td>3</td>\n",
              "      <td>KAB.BANDUNG</td>\n",
              "      <td>ARJASARI</td>\n",
              "      <td>ANCOLMEKAR</td>\n",
              "      <td>KP WARG*****</td>\n",
              "      <td>0</td>\n",
              "      <td>2</td>\n",
              "      <td>1</td>\n",
              "      <td>2</td>\n",
              "      <td>3</td>\n",
              "      <td>2</td>\n",
              "      <td>0</td>\n",
              "      <td>NaN</td>\n",
              "    </tr>\n",
              "    <tr>\n",
              "      <th>2</th>\n",
              "      <td>3204165010100002</td>\n",
              "      <td>USMI</td>\n",
              "      <td>1984-03-03</td>\n",
              "      <td>0</td>\n",
              "      <td>6</td>\n",
              "      <td>58</td>\n",
              "      <td>0</td>\n",
              "      <td>1</td>\n",
              "      <td>KAB.BANDUNG</td>\n",
              "      <td>ARJASARI</td>\n",
              "      <td>ANCOLMEKAR</td>\n",
              "      <td>KP</td>\n",
              "      <td>0</td>\n",
              "      <td>2</td>\n",
              "      <td>2</td>\n",
              "      <td>3</td>\n",
              "      <td>0</td>\n",
              "      <td>1</td>\n",
              "      <td>0</td>\n",
              "      <td>rejected</td>\n",
              "    </tr>\n",
              "    <tr>\n",
              "      <th>3</th>\n",
              "      <td>3204164107100003</td>\n",
              "      <td>MIMI</td>\n",
              "      <td>1944-02-24</td>\n",
              "      <td>4</td>\n",
              "      <td>5</td>\n",
              "      <td>29</td>\n",
              "      <td>2</td>\n",
              "      <td>5</td>\n",
              "      <td>KAB.BANDUNG</td>\n",
              "      <td>ARJASARI</td>\n",
              "      <td>ANCOLMEKAR</td>\n",
              "      <td>KP ANCO* RT 02 RW 04</td>\n",
              "      <td>2</td>\n",
              "      <td>0</td>\n",
              "      <td>3</td>\n",
              "      <td>3</td>\n",
              "      <td>0</td>\n",
              "      <td>0</td>\n",
              "      <td>0</td>\n",
              "      <td>NaN</td>\n",
              "    </tr>\n",
              "    <tr>\n",
              "      <th>4</th>\n",
              "      <td>3204165504100004</td>\n",
              "      <td>ETI ROHA***</td>\n",
              "      <td>1947-09-14</td>\n",
              "      <td>3</td>\n",
              "      <td>7</td>\n",
              "      <td>63</td>\n",
              "      <td>2</td>\n",
              "      <td>1</td>\n",
              "      <td>KAB.BANDUNG</td>\n",
              "      <td>ARJASARI</td>\n",
              "      <td>ANCOLMEKAR</td>\n",
              "      <td>KP ANCO* RW 009 RT 002</td>\n",
              "      <td>2</td>\n",
              "      <td>2</td>\n",
              "      <td>2</td>\n",
              "      <td>3</td>\n",
              "      <td>2</td>\n",
              "      <td>1</td>\n",
              "      <td>1</td>\n",
              "      <td>rejected</td>\n",
              "    </tr>\n",
              "    <tr>\n",
              "      <th>...</th>\n",
              "      <td>...</td>\n",
              "      <td>...</td>\n",
              "      <td>...</td>\n",
              "      <td>...</td>\n",
              "      <td>...</td>\n",
              "      <td>...</td>\n",
              "      <td>...</td>\n",
              "      <td>...</td>\n",
              "      <td>...</td>\n",
              "      <td>...</td>\n",
              "      <td>...</td>\n",
              "      <td>...</td>\n",
              "      <td>...</td>\n",
              "      <td>...</td>\n",
              "      <td>...</td>\n",
              "      <td>...</td>\n",
              "      <td>...</td>\n",
              "      <td>...</td>\n",
              "      <td>...</td>\n",
              "      <td>...</td>\n",
              "    </tr>\n",
              "    <tr>\n",
              "      <th>2785</th>\n",
              "      <td>3204374207102785</td>\n",
              "      <td>ENTA*</td>\n",
              "      <td>1931-06-07</td>\n",
              "      <td>4</td>\n",
              "      <td>3</td>\n",
              "      <td>43</td>\n",
              "      <td>2</td>\n",
              "      <td>3</td>\n",
              "      <td>KAB.BANDUNG</td>\n",
              "      <td>SOREANG</td>\n",
              "      <td>SUKANAGARA</td>\n",
              "      <td>KP LEGO* HEAS RT 01 RW 05</td>\n",
              "      <td>0</td>\n",
              "      <td>1</td>\n",
              "      <td>1</td>\n",
              "      <td>3</td>\n",
              "      <td>2</td>\n",
              "      <td>0</td>\n",
              "      <td>3</td>\n",
              "      <td>NaN</td>\n",
              "    </tr>\n",
              "    <tr>\n",
              "      <th>2786</th>\n",
              "      <td>3204374311102786</td>\n",
              "      <td>RUSM****</td>\n",
              "      <td>1935-04-28</td>\n",
              "      <td>6</td>\n",
              "      <td>3</td>\n",
              "      <td>34</td>\n",
              "      <td>3</td>\n",
              "      <td>2</td>\n",
              "      <td>KAB.BANDUNG</td>\n",
              "      <td>SOREANG</td>\n",
              "      <td>SUKANAGARA</td>\n",
              "      <td>KP LEGO* HEAS RT 003 RW 004</td>\n",
              "      <td>0</td>\n",
              "      <td>0</td>\n",
              "      <td>2</td>\n",
              "      <td>0</td>\n",
              "      <td>2</td>\n",
              "      <td>1</td>\n",
              "      <td>1</td>\n",
              "      <td>NaN</td>\n",
              "    </tr>\n",
              "    <tr>\n",
              "      <th>2787</th>\n",
              "      <td>3204370605102787</td>\n",
              "      <td>CAHN*</td>\n",
              "      <td>1932-04-14</td>\n",
              "      <td>5</td>\n",
              "      <td>5</td>\n",
              "      <td>59</td>\n",
              "      <td>0</td>\n",
              "      <td>4</td>\n",
              "      <td>KAB.BANDUNG</td>\n",
              "      <td>SOREANG</td>\n",
              "      <td>SUKANAGARA</td>\n",
              "      <td>KP CIWA*** RT 05 RW 07</td>\n",
              "      <td>0</td>\n",
              "      <td>2</td>\n",
              "      <td>1</td>\n",
              "      <td>1</td>\n",
              "      <td>1</td>\n",
              "      <td>0</td>\n",
              "      <td>1</td>\n",
              "      <td>rejected</td>\n",
              "    </tr>\n",
              "    <tr>\n",
              "      <th>2788</th>\n",
              "      <td>3204375903102788</td>\n",
              "      <td>RISM* YANT*</td>\n",
              "      <td>1990-12-12</td>\n",
              "      <td>4</td>\n",
              "      <td>7</td>\n",
              "      <td>68</td>\n",
              "      <td>1</td>\n",
              "      <td>4</td>\n",
              "      <td>KAB.BANDUNG</td>\n",
              "      <td>SOREANG</td>\n",
              "      <td>SUKANAGARA</td>\n",
              "      <td>KP PASI* SALA* RT 005 RW 004</td>\n",
              "      <td>1</td>\n",
              "      <td>2</td>\n",
              "      <td>1</td>\n",
              "      <td>0</td>\n",
              "      <td>2</td>\n",
              "      <td>1</td>\n",
              "      <td>1</td>\n",
              "      <td>NaN</td>\n",
              "    </tr>\n",
              "    <tr>\n",
              "      <th>2789</th>\n",
              "      <td>3204374903102789</td>\n",
              "      <td>NENG TINA</td>\n",
              "      <td>1960-03-26</td>\n",
              "      <td>4</td>\n",
              "      <td>1</td>\n",
              "      <td>41</td>\n",
              "      <td>0</td>\n",
              "      <td>1</td>\n",
              "      <td>KAB.BANDUNG</td>\n",
              "      <td>SOREANG</td>\n",
              "      <td>SUKANAGARA</td>\n",
              "      <td>KP SIND*** WARG* RT 002 RW 006</td>\n",
              "      <td>1</td>\n",
              "      <td>1</td>\n",
              "      <td>2</td>\n",
              "      <td>1</td>\n",
              "      <td>0</td>\n",
              "      <td>0</td>\n",
              "      <td>2</td>\n",
              "      <td>NaN</td>\n",
              "    </tr>\n",
              "  </tbody>\n",
              "</table>\n",
              "<p>2790 rows × 20 columns</p>\n",
              "</div>"
            ],
            "text/plain": [
              "                   nik         nama  ... luas_rumah  status_bansos\n",
              "0     3204166610100000  RIMA MELA**  ...          3            NaN\n",
              "1     3204166409100001         CUCU  ...          0            NaN\n",
              "2     3204165010100002         USMI  ...          0       rejected\n",
              "3     3204164107100003         MIMI  ...          0            NaN\n",
              "4     3204165504100004  ETI ROHA***  ...          1       rejected\n",
              "...                ...          ...  ...        ...            ...\n",
              "2785  3204374207102785        ENTA*  ...          3            NaN\n",
              "2786  3204374311102786     RUSM****  ...          1            NaN\n",
              "2787  3204370605102787        CAHN*  ...          1       rejected\n",
              "2788  3204375903102788  RISM* YANT*  ...          1            NaN\n",
              "2789  3204374903102789    NENG TINA  ...          2            NaN\n",
              "\n",
              "[2790 rows x 20 columns]"
            ]
          },
          "metadata": {
            "tags": []
          },
          "execution_count": 41
        },
        {
          "output_type": "stream",
          "text": [
            "time: 59.6 ms (started: 2021-06-02 13:14:13 +00:00)\n"
          ],
          "name": "stdout"
        }
      ]
    },
    {
      "cell_type": "code",
      "metadata": {
        "id": "AwNzbf_th0HB",
        "colab": {
          "base_uri": "https://localhost:8080/"
        },
        "outputId": "8ccedaa8-5b4e-4a7d-9833-897259ce2509"
      },
      "source": [
        "#send SAW result to the penduduk dataset\n",
        "penduduk_df.loc[penduduk_df['nik'].isin(compute_df['nik']), ['status_bansos']] = compute_df[['status_bansos']].values\n",
        "\n",
        "#make a new dataset consist of NIK and social assistance status\n",
        "result_df = penduduk_df[['nik', 'status_bansos']].copy()"
      ],
      "execution_count": null,
      "outputs": [
        {
          "output_type": "stream",
          "text": [
            "time: 10.2 ms (started: 2021-06-02 13:14:13 +00:00)\n"
          ],
          "name": "stdout"
        }
      ]
    },
    {
      "cell_type": "code",
      "metadata": {
        "colab": {
          "base_uri": "https://localhost:8080/",
          "height": 813
        },
        "id": "JXSzzXfJe4XP",
        "outputId": "ec169a21-3ac4-4edd-e4da-c3446582e7fd"
      },
      "source": [
        "penduduk_df"
      ],
      "execution_count": null,
      "outputs": [
        {
          "output_type": "execute_result",
          "data": {
            "text/html": [
              "<div>\n",
              "<style scoped>\n",
              "    .dataframe tbody tr th:only-of-type {\n",
              "        vertical-align: middle;\n",
              "    }\n",
              "\n",
              "    .dataframe tbody tr th {\n",
              "        vertical-align: top;\n",
              "    }\n",
              "\n",
              "    .dataframe thead th {\n",
              "        text-align: right;\n",
              "    }\n",
              "</style>\n",
              "<table border=\"1\" class=\"dataframe\">\n",
              "  <thead>\n",
              "    <tr style=\"text-align: right;\">\n",
              "      <th></th>\n",
              "      <th>nik</th>\n",
              "      <th>nama</th>\n",
              "      <th>tanggal_lahir</th>\n",
              "      <th>tanggungan_keluarga</th>\n",
              "      <th>pendidikan</th>\n",
              "      <th>profesi</th>\n",
              "      <th>status</th>\n",
              "      <th>gaji</th>\n",
              "      <th>kota_kabupaten</th>\n",
              "      <th>kecamatan</th>\n",
              "      <th>kelurahan</th>\n",
              "      <th>alamat</th>\n",
              "      <th>kondisi_kesehatan</th>\n",
              "      <th>atap</th>\n",
              "      <th>dinding</th>\n",
              "      <th>lantai</th>\n",
              "      <th>sumber_penerangan</th>\n",
              "      <th>sumber_air</th>\n",
              "      <th>luas_rumah</th>\n",
              "      <th>status_bansos</th>\n",
              "    </tr>\n",
              "  </thead>\n",
              "  <tbody>\n",
              "    <tr>\n",
              "      <th>0</th>\n",
              "      <td>3204166610100000</td>\n",
              "      <td>RIMA MELA**</td>\n",
              "      <td>1980-01-29</td>\n",
              "      <td>1</td>\n",
              "      <td>0</td>\n",
              "      <td>17</td>\n",
              "      <td>0</td>\n",
              "      <td>3</td>\n",
              "      <td>KAB.BANDUNG</td>\n",
              "      <td>ARJASARI</td>\n",
              "      <td>ANCOLMEKAR</td>\n",
              "      <td>KP WARG*****</td>\n",
              "      <td>2</td>\n",
              "      <td>1</td>\n",
              "      <td>0</td>\n",
              "      <td>3</td>\n",
              "      <td>0</td>\n",
              "      <td>0</td>\n",
              "      <td>3</td>\n",
              "      <td>rejected</td>\n",
              "    </tr>\n",
              "    <tr>\n",
              "      <th>1</th>\n",
              "      <td>3204166409100001</td>\n",
              "      <td>CUCU</td>\n",
              "      <td>1953-08-01</td>\n",
              "      <td>4</td>\n",
              "      <td>7</td>\n",
              "      <td>9</td>\n",
              "      <td>2</td>\n",
              "      <td>3</td>\n",
              "      <td>KAB.BANDUNG</td>\n",
              "      <td>ARJASARI</td>\n",
              "      <td>ANCOLMEKAR</td>\n",
              "      <td>KP WARG*****</td>\n",
              "      <td>0</td>\n",
              "      <td>2</td>\n",
              "      <td>1</td>\n",
              "      <td>2</td>\n",
              "      <td>3</td>\n",
              "      <td>2</td>\n",
              "      <td>0</td>\n",
              "      <td>accepted</td>\n",
              "    </tr>\n",
              "    <tr>\n",
              "      <th>2</th>\n",
              "      <td>3204165010100002</td>\n",
              "      <td>USMI</td>\n",
              "      <td>1984-03-03</td>\n",
              "      <td>0</td>\n",
              "      <td>6</td>\n",
              "      <td>58</td>\n",
              "      <td>0</td>\n",
              "      <td>1</td>\n",
              "      <td>KAB.BANDUNG</td>\n",
              "      <td>ARJASARI</td>\n",
              "      <td>ANCOLMEKAR</td>\n",
              "      <td>KP</td>\n",
              "      <td>0</td>\n",
              "      <td>2</td>\n",
              "      <td>2</td>\n",
              "      <td>3</td>\n",
              "      <td>0</td>\n",
              "      <td>1</td>\n",
              "      <td>0</td>\n",
              "      <td>rejected</td>\n",
              "    </tr>\n",
              "    <tr>\n",
              "      <th>3</th>\n",
              "      <td>3204164107100003</td>\n",
              "      <td>MIMI</td>\n",
              "      <td>1944-02-24</td>\n",
              "      <td>4</td>\n",
              "      <td>5</td>\n",
              "      <td>29</td>\n",
              "      <td>2</td>\n",
              "      <td>5</td>\n",
              "      <td>KAB.BANDUNG</td>\n",
              "      <td>ARJASARI</td>\n",
              "      <td>ANCOLMEKAR</td>\n",
              "      <td>KP ANCO* RT 02 RW 04</td>\n",
              "      <td>2</td>\n",
              "      <td>0</td>\n",
              "      <td>3</td>\n",
              "      <td>3</td>\n",
              "      <td>0</td>\n",
              "      <td>0</td>\n",
              "      <td>0</td>\n",
              "      <td>accepted</td>\n",
              "    </tr>\n",
              "    <tr>\n",
              "      <th>4</th>\n",
              "      <td>3204165504100004</td>\n",
              "      <td>ETI ROHA***</td>\n",
              "      <td>1947-09-14</td>\n",
              "      <td>3</td>\n",
              "      <td>7</td>\n",
              "      <td>63</td>\n",
              "      <td>2</td>\n",
              "      <td>1</td>\n",
              "      <td>KAB.BANDUNG</td>\n",
              "      <td>ARJASARI</td>\n",
              "      <td>ANCOLMEKAR</td>\n",
              "      <td>KP ANCO* RW 009 RT 002</td>\n",
              "      <td>2</td>\n",
              "      <td>2</td>\n",
              "      <td>2</td>\n",
              "      <td>3</td>\n",
              "      <td>2</td>\n",
              "      <td>1</td>\n",
              "      <td>1</td>\n",
              "      <td>rejected</td>\n",
              "    </tr>\n",
              "    <tr>\n",
              "      <th>...</th>\n",
              "      <td>...</td>\n",
              "      <td>...</td>\n",
              "      <td>...</td>\n",
              "      <td>...</td>\n",
              "      <td>...</td>\n",
              "      <td>...</td>\n",
              "      <td>...</td>\n",
              "      <td>...</td>\n",
              "      <td>...</td>\n",
              "      <td>...</td>\n",
              "      <td>...</td>\n",
              "      <td>...</td>\n",
              "      <td>...</td>\n",
              "      <td>...</td>\n",
              "      <td>...</td>\n",
              "      <td>...</td>\n",
              "      <td>...</td>\n",
              "      <td>...</td>\n",
              "      <td>...</td>\n",
              "      <td>...</td>\n",
              "    </tr>\n",
              "    <tr>\n",
              "      <th>2785</th>\n",
              "      <td>3204374207102785</td>\n",
              "      <td>ENTA*</td>\n",
              "      <td>1931-06-07</td>\n",
              "      <td>4</td>\n",
              "      <td>3</td>\n",
              "      <td>43</td>\n",
              "      <td>2</td>\n",
              "      <td>3</td>\n",
              "      <td>KAB.BANDUNG</td>\n",
              "      <td>SOREANG</td>\n",
              "      <td>SUKANAGARA</td>\n",
              "      <td>KP LEGO* HEAS RT 01 RW 05</td>\n",
              "      <td>0</td>\n",
              "      <td>1</td>\n",
              "      <td>1</td>\n",
              "      <td>3</td>\n",
              "      <td>2</td>\n",
              "      <td>0</td>\n",
              "      <td>3</td>\n",
              "      <td>accepted</td>\n",
              "    </tr>\n",
              "    <tr>\n",
              "      <th>2786</th>\n",
              "      <td>3204374311102786</td>\n",
              "      <td>RUSM****</td>\n",
              "      <td>1935-04-28</td>\n",
              "      <td>6</td>\n",
              "      <td>3</td>\n",
              "      <td>34</td>\n",
              "      <td>3</td>\n",
              "      <td>2</td>\n",
              "      <td>KAB.BANDUNG</td>\n",
              "      <td>SOREANG</td>\n",
              "      <td>SUKANAGARA</td>\n",
              "      <td>KP LEGO* HEAS RT 003 RW 004</td>\n",
              "      <td>0</td>\n",
              "      <td>0</td>\n",
              "      <td>2</td>\n",
              "      <td>0</td>\n",
              "      <td>2</td>\n",
              "      <td>1</td>\n",
              "      <td>1</td>\n",
              "      <td>rejected</td>\n",
              "    </tr>\n",
              "    <tr>\n",
              "      <th>2787</th>\n",
              "      <td>3204370605102787</td>\n",
              "      <td>CAHN*</td>\n",
              "      <td>1932-04-14</td>\n",
              "      <td>5</td>\n",
              "      <td>5</td>\n",
              "      <td>59</td>\n",
              "      <td>0</td>\n",
              "      <td>4</td>\n",
              "      <td>KAB.BANDUNG</td>\n",
              "      <td>SOREANG</td>\n",
              "      <td>SUKANAGARA</td>\n",
              "      <td>KP CIWA*** RT 05 RW 07</td>\n",
              "      <td>0</td>\n",
              "      <td>2</td>\n",
              "      <td>1</td>\n",
              "      <td>1</td>\n",
              "      <td>1</td>\n",
              "      <td>0</td>\n",
              "      <td>1</td>\n",
              "      <td>rejected</td>\n",
              "    </tr>\n",
              "    <tr>\n",
              "      <th>2788</th>\n",
              "      <td>3204375903102788</td>\n",
              "      <td>RISM* YANT*</td>\n",
              "      <td>1990-12-12</td>\n",
              "      <td>4</td>\n",
              "      <td>7</td>\n",
              "      <td>68</td>\n",
              "      <td>1</td>\n",
              "      <td>4</td>\n",
              "      <td>KAB.BANDUNG</td>\n",
              "      <td>SOREANG</td>\n",
              "      <td>SUKANAGARA</td>\n",
              "      <td>KP PASI* SALA* RT 005 RW 004</td>\n",
              "      <td>1</td>\n",
              "      <td>2</td>\n",
              "      <td>1</td>\n",
              "      <td>0</td>\n",
              "      <td>2</td>\n",
              "      <td>1</td>\n",
              "      <td>1</td>\n",
              "      <td>accepted</td>\n",
              "    </tr>\n",
              "    <tr>\n",
              "      <th>2789</th>\n",
              "      <td>3204374903102789</td>\n",
              "      <td>NENG TINA</td>\n",
              "      <td>1960-03-26</td>\n",
              "      <td>4</td>\n",
              "      <td>1</td>\n",
              "      <td>41</td>\n",
              "      <td>0</td>\n",
              "      <td>1</td>\n",
              "      <td>KAB.BANDUNG</td>\n",
              "      <td>SOREANG</td>\n",
              "      <td>SUKANAGARA</td>\n",
              "      <td>KP SIND*** WARG* RT 002 RW 006</td>\n",
              "      <td>1</td>\n",
              "      <td>1</td>\n",
              "      <td>2</td>\n",
              "      <td>1</td>\n",
              "      <td>0</td>\n",
              "      <td>0</td>\n",
              "      <td>2</td>\n",
              "      <td>rejected</td>\n",
              "    </tr>\n",
              "  </tbody>\n",
              "</table>\n",
              "<p>2790 rows × 20 columns</p>\n",
              "</div>"
            ],
            "text/plain": [
              "                   nik         nama  ... luas_rumah  status_bansos\n",
              "0     3204166610100000  RIMA MELA**  ...          3       rejected\n",
              "1     3204166409100001         CUCU  ...          0       accepted\n",
              "2     3204165010100002         USMI  ...          0       rejected\n",
              "3     3204164107100003         MIMI  ...          0       accepted\n",
              "4     3204165504100004  ETI ROHA***  ...          1       rejected\n",
              "...                ...          ...  ...        ...            ...\n",
              "2785  3204374207102785        ENTA*  ...          3       accepted\n",
              "2786  3204374311102786     RUSM****  ...          1       rejected\n",
              "2787  3204370605102787        CAHN*  ...          1       rejected\n",
              "2788  3204375903102788  RISM* YANT*  ...          1       accepted\n",
              "2789  3204374903102789    NENG TINA  ...          2       rejected\n",
              "\n",
              "[2790 rows x 20 columns]"
            ]
          },
          "metadata": {
            "tags": []
          },
          "execution_count": 43
        },
        {
          "output_type": "stream",
          "text": [
            "time: 46.3 ms (started: 2021-06-02 13:14:13 +00:00)\n"
          ],
          "name": "stdout"
        }
      ]
    },
    {
      "cell_type": "code",
      "metadata": {
        "id": "WPrBM4v2k8Mg",
        "colab": {
          "base_uri": "https://localhost:8080/",
          "height": 456
        },
        "outputId": "d3a9be7f-f057-4a1d-85a6-396306cd4c43"
      },
      "source": [
        "compute_df"
      ],
      "execution_count": null,
      "outputs": [
        {
          "output_type": "execute_result",
          "data": {
            "text/html": [
              "<div>\n",
              "<style scoped>\n",
              "    .dataframe tbody tr th:only-of-type {\n",
              "        vertical-align: middle;\n",
              "    }\n",
              "\n",
              "    .dataframe tbody tr th {\n",
              "        vertical-align: top;\n",
              "    }\n",
              "\n",
              "    .dataframe thead th {\n",
              "        text-align: right;\n",
              "    }\n",
              "</style>\n",
              "<table border=\"1\" class=\"dataframe\">\n",
              "  <thead>\n",
              "    <tr style=\"text-align: right;\">\n",
              "      <th></th>\n",
              "      <th>nik</th>\n",
              "      <th>tanggungan_keluarga</th>\n",
              "      <th>pendidikan</th>\n",
              "      <th>status</th>\n",
              "      <th>gaji</th>\n",
              "      <th>kondisi_kesehatan</th>\n",
              "      <th>atap</th>\n",
              "      <th>dinding</th>\n",
              "      <th>lantai</th>\n",
              "      <th>sumber_penerangan</th>\n",
              "      <th>sumber_air</th>\n",
              "      <th>luas_rumah</th>\n",
              "      <th>cluster</th>\n",
              "      <th>status_bansos</th>\n",
              "    </tr>\n",
              "  </thead>\n",
              "  <tbody>\n",
              "    <tr>\n",
              "      <th>0</th>\n",
              "      <td>3204166610100000</td>\n",
              "      <td>1</td>\n",
              "      <td>0</td>\n",
              "      <td>0</td>\n",
              "      <td>3</td>\n",
              "      <td>2</td>\n",
              "      <td>1</td>\n",
              "      <td>0</td>\n",
              "      <td>3</td>\n",
              "      <td>0</td>\n",
              "      <td>0</td>\n",
              "      <td>3</td>\n",
              "      <td>0</td>\n",
              "      <td>rejected</td>\n",
              "    </tr>\n",
              "    <tr>\n",
              "      <th>1</th>\n",
              "      <td>3204166409100001</td>\n",
              "      <td>4</td>\n",
              "      <td>7</td>\n",
              "      <td>2</td>\n",
              "      <td>3</td>\n",
              "      <td>0</td>\n",
              "      <td>2</td>\n",
              "      <td>1</td>\n",
              "      <td>2</td>\n",
              "      <td>3</td>\n",
              "      <td>2</td>\n",
              "      <td>0</td>\n",
              "      <td>5</td>\n",
              "      <td>accepted</td>\n",
              "    </tr>\n",
              "    <tr>\n",
              "      <th>3</th>\n",
              "      <td>3204164107100003</td>\n",
              "      <td>4</td>\n",
              "      <td>5</td>\n",
              "      <td>2</td>\n",
              "      <td>5</td>\n",
              "      <td>2</td>\n",
              "      <td>0</td>\n",
              "      <td>3</td>\n",
              "      <td>3</td>\n",
              "      <td>0</td>\n",
              "      <td>0</td>\n",
              "      <td>0</td>\n",
              "      <td>5</td>\n",
              "      <td>accepted</td>\n",
              "    </tr>\n",
              "    <tr>\n",
              "      <th>6</th>\n",
              "      <td>3204164709100006</td>\n",
              "      <td>0</td>\n",
              "      <td>1</td>\n",
              "      <td>2</td>\n",
              "      <td>5</td>\n",
              "      <td>1</td>\n",
              "      <td>1</td>\n",
              "      <td>1</td>\n",
              "      <td>2</td>\n",
              "      <td>2</td>\n",
              "      <td>1</td>\n",
              "      <td>1</td>\n",
              "      <td>0</td>\n",
              "      <td>rejected</td>\n",
              "    </tr>\n",
              "    <tr>\n",
              "      <th>7</th>\n",
              "      <td>3204160708100007</td>\n",
              "      <td>6</td>\n",
              "      <td>4</td>\n",
              "      <td>0</td>\n",
              "      <td>2</td>\n",
              "      <td>0</td>\n",
              "      <td>1</td>\n",
              "      <td>3</td>\n",
              "      <td>3</td>\n",
              "      <td>1</td>\n",
              "      <td>0</td>\n",
              "      <td>3</td>\n",
              "      <td>2</td>\n",
              "      <td>accepted</td>\n",
              "    </tr>\n",
              "    <tr>\n",
              "      <th>...</th>\n",
              "      <td>...</td>\n",
              "      <td>...</td>\n",
              "      <td>...</td>\n",
              "      <td>...</td>\n",
              "      <td>...</td>\n",
              "      <td>...</td>\n",
              "      <td>...</td>\n",
              "      <td>...</td>\n",
              "      <td>...</td>\n",
              "      <td>...</td>\n",
              "      <td>...</td>\n",
              "      <td>...</td>\n",
              "      <td>...</td>\n",
              "      <td>...</td>\n",
              "    </tr>\n",
              "    <tr>\n",
              "      <th>2782</th>\n",
              "      <td>3204376011102782</td>\n",
              "      <td>1</td>\n",
              "      <td>6</td>\n",
              "      <td>0</td>\n",
              "      <td>2</td>\n",
              "      <td>2</td>\n",
              "      <td>1</td>\n",
              "      <td>1</td>\n",
              "      <td>1</td>\n",
              "      <td>0</td>\n",
              "      <td>1</td>\n",
              "      <td>2</td>\n",
              "      <td>6</td>\n",
              "      <td>rejected</td>\n",
              "    </tr>\n",
              "    <tr>\n",
              "      <th>2785</th>\n",
              "      <td>3204374207102785</td>\n",
              "      <td>4</td>\n",
              "      <td>3</td>\n",
              "      <td>2</td>\n",
              "      <td>3</td>\n",
              "      <td>0</td>\n",
              "      <td>1</td>\n",
              "      <td>1</td>\n",
              "      <td>3</td>\n",
              "      <td>2</td>\n",
              "      <td>0</td>\n",
              "      <td>3</td>\n",
              "      <td>1</td>\n",
              "      <td>accepted</td>\n",
              "    </tr>\n",
              "    <tr>\n",
              "      <th>2786</th>\n",
              "      <td>3204374311102786</td>\n",
              "      <td>6</td>\n",
              "      <td>3</td>\n",
              "      <td>3</td>\n",
              "      <td>2</td>\n",
              "      <td>0</td>\n",
              "      <td>0</td>\n",
              "      <td>2</td>\n",
              "      <td>0</td>\n",
              "      <td>2</td>\n",
              "      <td>1</td>\n",
              "      <td>1</td>\n",
              "      <td>3</td>\n",
              "      <td>rejected</td>\n",
              "    </tr>\n",
              "    <tr>\n",
              "      <th>2788</th>\n",
              "      <td>3204375903102788</td>\n",
              "      <td>4</td>\n",
              "      <td>7</td>\n",
              "      <td>1</td>\n",
              "      <td>4</td>\n",
              "      <td>1</td>\n",
              "      <td>2</td>\n",
              "      <td>1</td>\n",
              "      <td>0</td>\n",
              "      <td>2</td>\n",
              "      <td>1</td>\n",
              "      <td>1</td>\n",
              "      <td>5</td>\n",
              "      <td>accepted</td>\n",
              "    </tr>\n",
              "    <tr>\n",
              "      <th>2789</th>\n",
              "      <td>3204374903102789</td>\n",
              "      <td>4</td>\n",
              "      <td>1</td>\n",
              "      <td>0</td>\n",
              "      <td>1</td>\n",
              "      <td>1</td>\n",
              "      <td>1</td>\n",
              "      <td>2</td>\n",
              "      <td>1</td>\n",
              "      <td>0</td>\n",
              "      <td>0</td>\n",
              "      <td>2</td>\n",
              "      <td>3</td>\n",
              "      <td>rejected</td>\n",
              "    </tr>\n",
              "  </tbody>\n",
              "</table>\n",
              "<p>2147 rows × 14 columns</p>\n",
              "</div>"
            ],
            "text/plain": [
              "                   nik  tanggungan_keluarga  ...  cluster  status_bansos\n",
              "0     3204166610100000                    1  ...        0       rejected\n",
              "1     3204166409100001                    4  ...        5       accepted\n",
              "3     3204164107100003                    4  ...        5       accepted\n",
              "6     3204164709100006                    0  ...        0       rejected\n",
              "7     3204160708100007                    6  ...        2       accepted\n",
              "...                ...                  ...  ...      ...            ...\n",
              "2782  3204376011102782                    1  ...        6       rejected\n",
              "2785  3204374207102785                    4  ...        1       accepted\n",
              "2786  3204374311102786                    6  ...        3       rejected\n",
              "2788  3204375903102788                    4  ...        5       accepted\n",
              "2789  3204374903102789                    4  ...        3       rejected\n",
              "\n",
              "[2147 rows x 14 columns]"
            ]
          },
          "metadata": {
            "tags": []
          },
          "execution_count": 44
        },
        {
          "output_type": "stream",
          "text": [
            "time: 34 ms (started: 2021-06-02 13:14:13 +00:00)\n"
          ],
          "name": "stdout"
        }
      ]
    },
    {
      "cell_type": "code",
      "metadata": {
        "id": "ChxscnWej0PZ",
        "colab": {
          "base_uri": "https://localhost:8080/",
          "height": 436
        },
        "outputId": "2a32c455-7453-471c-90f9-5d0c80137cc3"
      },
      "source": [
        "result_df"
      ],
      "execution_count": null,
      "outputs": [
        {
          "output_type": "execute_result",
          "data": {
            "text/html": [
              "<div>\n",
              "<style scoped>\n",
              "    .dataframe tbody tr th:only-of-type {\n",
              "        vertical-align: middle;\n",
              "    }\n",
              "\n",
              "    .dataframe tbody tr th {\n",
              "        vertical-align: top;\n",
              "    }\n",
              "\n",
              "    .dataframe thead th {\n",
              "        text-align: right;\n",
              "    }\n",
              "</style>\n",
              "<table border=\"1\" class=\"dataframe\">\n",
              "  <thead>\n",
              "    <tr style=\"text-align: right;\">\n",
              "      <th></th>\n",
              "      <th>nik</th>\n",
              "      <th>status_bansos</th>\n",
              "    </tr>\n",
              "  </thead>\n",
              "  <tbody>\n",
              "    <tr>\n",
              "      <th>0</th>\n",
              "      <td>3204166610100000</td>\n",
              "      <td>rejected</td>\n",
              "    </tr>\n",
              "    <tr>\n",
              "      <th>1</th>\n",
              "      <td>3204166409100001</td>\n",
              "      <td>accepted</td>\n",
              "    </tr>\n",
              "    <tr>\n",
              "      <th>2</th>\n",
              "      <td>3204165010100002</td>\n",
              "      <td>rejected</td>\n",
              "    </tr>\n",
              "    <tr>\n",
              "      <th>3</th>\n",
              "      <td>3204164107100003</td>\n",
              "      <td>accepted</td>\n",
              "    </tr>\n",
              "    <tr>\n",
              "      <th>4</th>\n",
              "      <td>3204165504100004</td>\n",
              "      <td>rejected</td>\n",
              "    </tr>\n",
              "    <tr>\n",
              "      <th>...</th>\n",
              "      <td>...</td>\n",
              "      <td>...</td>\n",
              "    </tr>\n",
              "    <tr>\n",
              "      <th>2785</th>\n",
              "      <td>3204374207102785</td>\n",
              "      <td>accepted</td>\n",
              "    </tr>\n",
              "    <tr>\n",
              "      <th>2786</th>\n",
              "      <td>3204374311102786</td>\n",
              "      <td>rejected</td>\n",
              "    </tr>\n",
              "    <tr>\n",
              "      <th>2787</th>\n",
              "      <td>3204370605102787</td>\n",
              "      <td>rejected</td>\n",
              "    </tr>\n",
              "    <tr>\n",
              "      <th>2788</th>\n",
              "      <td>3204375903102788</td>\n",
              "      <td>accepted</td>\n",
              "    </tr>\n",
              "    <tr>\n",
              "      <th>2789</th>\n",
              "      <td>3204374903102789</td>\n",
              "      <td>rejected</td>\n",
              "    </tr>\n",
              "  </tbody>\n",
              "</table>\n",
              "<p>2790 rows × 2 columns</p>\n",
              "</div>"
            ],
            "text/plain": [
              "                   nik status_bansos\n",
              "0     3204166610100000      rejected\n",
              "1     3204166409100001      accepted\n",
              "2     3204165010100002      rejected\n",
              "3     3204164107100003      accepted\n",
              "4     3204165504100004      rejected\n",
              "...                ...           ...\n",
              "2785  3204374207102785      accepted\n",
              "2786  3204374311102786      rejected\n",
              "2787  3204370605102787      rejected\n",
              "2788  3204375903102788      accepted\n",
              "2789  3204374903102789      rejected\n",
              "\n",
              "[2790 rows x 2 columns]"
            ]
          },
          "metadata": {
            "tags": []
          },
          "execution_count": 45
        },
        {
          "output_type": "stream",
          "text": [
            "time: 15.3 ms (started: 2021-06-02 13:14:13 +00:00)\n"
          ],
          "name": "stdout"
        }
      ]
    },
    {
      "cell_type": "code",
      "metadata": {
        "colab": {
          "base_uri": "https://localhost:8080/",
          "height": 898
        },
        "id": "xf4QPfaRzSEF",
        "outputId": "35c9ea2a-678a-4324-c83e-3acf28968854"
      },
      "source": [
        "#check accepted person\n",
        "penduduk_df.loc[(penduduk_df['status_bansos']=='accepted')]"
      ],
      "execution_count": null,
      "outputs": [
        {
          "output_type": "execute_result",
          "data": {
            "text/html": [
              "<div>\n",
              "<style scoped>\n",
              "    .dataframe tbody tr th:only-of-type {\n",
              "        vertical-align: middle;\n",
              "    }\n",
              "\n",
              "    .dataframe tbody tr th {\n",
              "        vertical-align: top;\n",
              "    }\n",
              "\n",
              "    .dataframe thead th {\n",
              "        text-align: right;\n",
              "    }\n",
              "</style>\n",
              "<table border=\"1\" class=\"dataframe\">\n",
              "  <thead>\n",
              "    <tr style=\"text-align: right;\">\n",
              "      <th></th>\n",
              "      <th>nik</th>\n",
              "      <th>nama</th>\n",
              "      <th>tanggal_lahir</th>\n",
              "      <th>tanggungan_keluarga</th>\n",
              "      <th>pendidikan</th>\n",
              "      <th>profesi</th>\n",
              "      <th>status</th>\n",
              "      <th>gaji</th>\n",
              "      <th>kota_kabupaten</th>\n",
              "      <th>kecamatan</th>\n",
              "      <th>kelurahan</th>\n",
              "      <th>alamat</th>\n",
              "      <th>kondisi_kesehatan</th>\n",
              "      <th>atap</th>\n",
              "      <th>dinding</th>\n",
              "      <th>lantai</th>\n",
              "      <th>sumber_penerangan</th>\n",
              "      <th>sumber_air</th>\n",
              "      <th>luas_rumah</th>\n",
              "      <th>status_bansos</th>\n",
              "    </tr>\n",
              "  </thead>\n",
              "  <tbody>\n",
              "    <tr>\n",
              "      <th>1</th>\n",
              "      <td>3204166409100001</td>\n",
              "      <td>CUCU</td>\n",
              "      <td>1953-08-01</td>\n",
              "      <td>4</td>\n",
              "      <td>7</td>\n",
              "      <td>9</td>\n",
              "      <td>2</td>\n",
              "      <td>3</td>\n",
              "      <td>KAB.BANDUNG</td>\n",
              "      <td>ARJASARI</td>\n",
              "      <td>ANCOLMEKAR</td>\n",
              "      <td>KP WARG*****</td>\n",
              "      <td>0</td>\n",
              "      <td>2</td>\n",
              "      <td>1</td>\n",
              "      <td>2</td>\n",
              "      <td>3</td>\n",
              "      <td>2</td>\n",
              "      <td>0</td>\n",
              "      <td>accepted</td>\n",
              "    </tr>\n",
              "    <tr>\n",
              "      <th>3</th>\n",
              "      <td>3204164107100003</td>\n",
              "      <td>MIMI</td>\n",
              "      <td>1944-02-24</td>\n",
              "      <td>4</td>\n",
              "      <td>5</td>\n",
              "      <td>29</td>\n",
              "      <td>2</td>\n",
              "      <td>5</td>\n",
              "      <td>KAB.BANDUNG</td>\n",
              "      <td>ARJASARI</td>\n",
              "      <td>ANCOLMEKAR</td>\n",
              "      <td>KP ANCO* RT 02 RW 04</td>\n",
              "      <td>2</td>\n",
              "      <td>0</td>\n",
              "      <td>3</td>\n",
              "      <td>3</td>\n",
              "      <td>0</td>\n",
              "      <td>0</td>\n",
              "      <td>0</td>\n",
              "      <td>accepted</td>\n",
              "    </tr>\n",
              "    <tr>\n",
              "      <th>7</th>\n",
              "      <td>3204160708100007</td>\n",
              "      <td>ACEN*</td>\n",
              "      <td>1967-10-09</td>\n",
              "      <td>6</td>\n",
              "      <td>4</td>\n",
              "      <td>45</td>\n",
              "      <td>0</td>\n",
              "      <td>2</td>\n",
              "      <td>KAB.BANDUNG</td>\n",
              "      <td>ARJASARI</td>\n",
              "      <td>ANCOLMEKAR</td>\n",
              "      <td>KP PASI***** RT 04 RW 08</td>\n",
              "      <td>0</td>\n",
              "      <td>1</td>\n",
              "      <td>3</td>\n",
              "      <td>3</td>\n",
              "      <td>1</td>\n",
              "      <td>0</td>\n",
              "      <td>3</td>\n",
              "      <td>accepted</td>\n",
              "    </tr>\n",
              "    <tr>\n",
              "      <th>13</th>\n",
              "      <td>3204164107100013</td>\n",
              "      <td>IKAH</td>\n",
              "      <td>1954-04-16</td>\n",
              "      <td>1</td>\n",
              "      <td>4</td>\n",
              "      <td>66</td>\n",
              "      <td>2</td>\n",
              "      <td>3</td>\n",
              "      <td>KAB.BANDUNG</td>\n",
              "      <td>ARJASARI</td>\n",
              "      <td>ARJASARI</td>\n",
              "      <td>KP CIBI***** RW 009 RT 003</td>\n",
              "      <td>1</td>\n",
              "      <td>0</td>\n",
              "      <td>2</td>\n",
              "      <td>2</td>\n",
              "      <td>1</td>\n",
              "      <td>1</td>\n",
              "      <td>0</td>\n",
              "      <td>accepted</td>\n",
              "    </tr>\n",
              "    <tr>\n",
              "      <th>14</th>\n",
              "      <td>3204164808100014</td>\n",
              "      <td>UPIT KUST***</td>\n",
              "      <td>1942-04-10</td>\n",
              "      <td>2</td>\n",
              "      <td>5</td>\n",
              "      <td>24</td>\n",
              "      <td>1</td>\n",
              "      <td>3</td>\n",
              "      <td>KAB.BANDUNG</td>\n",
              "      <td>ARJASARI</td>\n",
              "      <td>ARJASARI</td>\n",
              "      <td>KP ARJA**** RW 008 RT 001</td>\n",
              "      <td>0</td>\n",
              "      <td>2</td>\n",
              "      <td>0</td>\n",
              "      <td>2</td>\n",
              "      <td>0</td>\n",
              "      <td>0</td>\n",
              "      <td>1</td>\n",
              "      <td>accepted</td>\n",
              "    </tr>\n",
              "    <tr>\n",
              "      <th>...</th>\n",
              "      <td>...</td>\n",
              "      <td>...</td>\n",
              "      <td>...</td>\n",
              "      <td>...</td>\n",
              "      <td>...</td>\n",
              "      <td>...</td>\n",
              "      <td>...</td>\n",
              "      <td>...</td>\n",
              "      <td>...</td>\n",
              "      <td>...</td>\n",
              "      <td>...</td>\n",
              "      <td>...</td>\n",
              "      <td>...</td>\n",
              "      <td>...</td>\n",
              "      <td>...</td>\n",
              "      <td>...</td>\n",
              "      <td>...</td>\n",
              "      <td>...</td>\n",
              "      <td>...</td>\n",
              "      <td>...</td>\n",
              "    </tr>\n",
              "    <tr>\n",
              "      <th>2777</th>\n",
              "      <td>3204374101102777</td>\n",
              "      <td>AAH</td>\n",
              "      <td>1923-04-20</td>\n",
              "      <td>2</td>\n",
              "      <td>1</td>\n",
              "      <td>11</td>\n",
              "      <td>3</td>\n",
              "      <td>5</td>\n",
              "      <td>KAB.BANDUNG</td>\n",
              "      <td>SOREANG</td>\n",
              "      <td>SUKAJADI</td>\n",
              "      <td>KP CIMO*** RT 02 RW 11</td>\n",
              "      <td>2</td>\n",
              "      <td>0</td>\n",
              "      <td>3</td>\n",
              "      <td>2</td>\n",
              "      <td>1</td>\n",
              "      <td>1</td>\n",
              "      <td>3</td>\n",
              "      <td>accepted</td>\n",
              "    </tr>\n",
              "    <tr>\n",
              "      <th>2778</th>\n",
              "      <td>3204374708102778</td>\n",
              "      <td>ONIH</td>\n",
              "      <td>1938-08-26</td>\n",
              "      <td>4</td>\n",
              "      <td>3</td>\n",
              "      <td>47</td>\n",
              "      <td>0</td>\n",
              "      <td>4</td>\n",
              "      <td>KAB.BANDUNG</td>\n",
              "      <td>SOREANG</td>\n",
              "      <td>SUKAJADI</td>\n",
              "      <td>KP CILE**** RT 03 RW 14</td>\n",
              "      <td>2</td>\n",
              "      <td>1</td>\n",
              "      <td>1</td>\n",
              "      <td>3</td>\n",
              "      <td>1</td>\n",
              "      <td>1</td>\n",
              "      <td>0</td>\n",
              "      <td>accepted</td>\n",
              "    </tr>\n",
              "    <tr>\n",
              "      <th>2781</th>\n",
              "      <td>3204370610102781</td>\n",
              "      <td>SOBI***</td>\n",
              "      <td>1938-08-19</td>\n",
              "      <td>5</td>\n",
              "      <td>4</td>\n",
              "      <td>13</td>\n",
              "      <td>1</td>\n",
              "      <td>3</td>\n",
              "      <td>KAB.BANDUNG</td>\n",
              "      <td>SOREANG</td>\n",
              "      <td>SUKANAGARA</td>\n",
              "      <td>KP LEGO* HEAS RT 001 RW 005</td>\n",
              "      <td>0</td>\n",
              "      <td>0</td>\n",
              "      <td>1</td>\n",
              "      <td>0</td>\n",
              "      <td>0</td>\n",
              "      <td>1</td>\n",
              "      <td>0</td>\n",
              "      <td>accepted</td>\n",
              "    </tr>\n",
              "    <tr>\n",
              "      <th>2785</th>\n",
              "      <td>3204374207102785</td>\n",
              "      <td>ENTA*</td>\n",
              "      <td>1931-06-07</td>\n",
              "      <td>4</td>\n",
              "      <td>3</td>\n",
              "      <td>43</td>\n",
              "      <td>2</td>\n",
              "      <td>3</td>\n",
              "      <td>KAB.BANDUNG</td>\n",
              "      <td>SOREANG</td>\n",
              "      <td>SUKANAGARA</td>\n",
              "      <td>KP LEGO* HEAS RT 01 RW 05</td>\n",
              "      <td>0</td>\n",
              "      <td>1</td>\n",
              "      <td>1</td>\n",
              "      <td>3</td>\n",
              "      <td>2</td>\n",
              "      <td>0</td>\n",
              "      <td>3</td>\n",
              "      <td>accepted</td>\n",
              "    </tr>\n",
              "    <tr>\n",
              "      <th>2788</th>\n",
              "      <td>3204375903102788</td>\n",
              "      <td>RISM* YANT*</td>\n",
              "      <td>1990-12-12</td>\n",
              "      <td>4</td>\n",
              "      <td>7</td>\n",
              "      <td>68</td>\n",
              "      <td>1</td>\n",
              "      <td>4</td>\n",
              "      <td>KAB.BANDUNG</td>\n",
              "      <td>SOREANG</td>\n",
              "      <td>SUKANAGARA</td>\n",
              "      <td>KP PASI* SALA* RT 005 RW 004</td>\n",
              "      <td>1</td>\n",
              "      <td>2</td>\n",
              "      <td>1</td>\n",
              "      <td>0</td>\n",
              "      <td>2</td>\n",
              "      <td>1</td>\n",
              "      <td>1</td>\n",
              "      <td>accepted</td>\n",
              "    </tr>\n",
              "  </tbody>\n",
              "</table>\n",
              "<p>1000 rows × 20 columns</p>\n",
              "</div>"
            ],
            "text/plain": [
              "                   nik          nama  ... luas_rumah  status_bansos\n",
              "1     3204166409100001          CUCU  ...          0       accepted\n",
              "3     3204164107100003          MIMI  ...          0       accepted\n",
              "7     3204160708100007         ACEN*  ...          3       accepted\n",
              "13    3204164107100013          IKAH  ...          0       accepted\n",
              "14    3204164808100014  UPIT KUST***  ...          1       accepted\n",
              "...                ...           ...  ...        ...            ...\n",
              "2777  3204374101102777           AAH  ...          3       accepted\n",
              "2778  3204374708102778          ONIH  ...          0       accepted\n",
              "2781  3204370610102781       SOBI***  ...          0       accepted\n",
              "2785  3204374207102785         ENTA*  ...          3       accepted\n",
              "2788  3204375903102788   RISM* YANT*  ...          1       accepted\n",
              "\n",
              "[1000 rows x 20 columns]"
            ]
          },
          "metadata": {
            "tags": []
          },
          "execution_count": 46
        },
        {
          "output_type": "stream",
          "text": [
            "time: 62.6 ms (started: 2021-06-02 13:14:13 +00:00)\n"
          ],
          "name": "stdout"
        }
      ]
    },
    {
      "cell_type": "code",
      "metadata": {
        "colab": {
          "base_uri": "https://localhost:8080/",
          "height": 864
        },
        "id": "RHFoTp8ezYBc",
        "outputId": "fb766d74-ce68-4d5c-ef18-a1a4c655e753"
      },
      "source": [
        "#check rejected person\n",
        "penduduk_df.loc[(penduduk_df['status_bansos']=='rejected')]"
      ],
      "execution_count": null,
      "outputs": [
        {
          "output_type": "execute_result",
          "data": {
            "text/html": [
              "<div>\n",
              "<style scoped>\n",
              "    .dataframe tbody tr th:only-of-type {\n",
              "        vertical-align: middle;\n",
              "    }\n",
              "\n",
              "    .dataframe tbody tr th {\n",
              "        vertical-align: top;\n",
              "    }\n",
              "\n",
              "    .dataframe thead th {\n",
              "        text-align: right;\n",
              "    }\n",
              "</style>\n",
              "<table border=\"1\" class=\"dataframe\">\n",
              "  <thead>\n",
              "    <tr style=\"text-align: right;\">\n",
              "      <th></th>\n",
              "      <th>nik</th>\n",
              "      <th>nama</th>\n",
              "      <th>tanggal_lahir</th>\n",
              "      <th>tanggungan_keluarga</th>\n",
              "      <th>pendidikan</th>\n",
              "      <th>profesi</th>\n",
              "      <th>status</th>\n",
              "      <th>gaji</th>\n",
              "      <th>kota_kabupaten</th>\n",
              "      <th>kecamatan</th>\n",
              "      <th>kelurahan</th>\n",
              "      <th>alamat</th>\n",
              "      <th>kondisi_kesehatan</th>\n",
              "      <th>atap</th>\n",
              "      <th>dinding</th>\n",
              "      <th>lantai</th>\n",
              "      <th>sumber_penerangan</th>\n",
              "      <th>sumber_air</th>\n",
              "      <th>luas_rumah</th>\n",
              "      <th>status_bansos</th>\n",
              "    </tr>\n",
              "  </thead>\n",
              "  <tbody>\n",
              "    <tr>\n",
              "      <th>0</th>\n",
              "      <td>3204166610100000</td>\n",
              "      <td>RIMA MELA**</td>\n",
              "      <td>1980-01-29</td>\n",
              "      <td>1</td>\n",
              "      <td>0</td>\n",
              "      <td>17</td>\n",
              "      <td>0</td>\n",
              "      <td>3</td>\n",
              "      <td>KAB.BANDUNG</td>\n",
              "      <td>ARJASARI</td>\n",
              "      <td>ANCOLMEKAR</td>\n",
              "      <td>KP WARG*****</td>\n",
              "      <td>2</td>\n",
              "      <td>1</td>\n",
              "      <td>0</td>\n",
              "      <td>3</td>\n",
              "      <td>0</td>\n",
              "      <td>0</td>\n",
              "      <td>3</td>\n",
              "      <td>rejected</td>\n",
              "    </tr>\n",
              "    <tr>\n",
              "      <th>2</th>\n",
              "      <td>3204165010100002</td>\n",
              "      <td>USMI</td>\n",
              "      <td>1984-03-03</td>\n",
              "      <td>0</td>\n",
              "      <td>6</td>\n",
              "      <td>58</td>\n",
              "      <td>0</td>\n",
              "      <td>1</td>\n",
              "      <td>KAB.BANDUNG</td>\n",
              "      <td>ARJASARI</td>\n",
              "      <td>ANCOLMEKAR</td>\n",
              "      <td>KP</td>\n",
              "      <td>0</td>\n",
              "      <td>2</td>\n",
              "      <td>2</td>\n",
              "      <td>3</td>\n",
              "      <td>0</td>\n",
              "      <td>1</td>\n",
              "      <td>0</td>\n",
              "      <td>rejected</td>\n",
              "    </tr>\n",
              "    <tr>\n",
              "      <th>4</th>\n",
              "      <td>3204165504100004</td>\n",
              "      <td>ETI ROHA***</td>\n",
              "      <td>1947-09-14</td>\n",
              "      <td>3</td>\n",
              "      <td>7</td>\n",
              "      <td>63</td>\n",
              "      <td>2</td>\n",
              "      <td>1</td>\n",
              "      <td>KAB.BANDUNG</td>\n",
              "      <td>ARJASARI</td>\n",
              "      <td>ANCOLMEKAR</td>\n",
              "      <td>KP ANCO* RW 009 RT 002</td>\n",
              "      <td>2</td>\n",
              "      <td>2</td>\n",
              "      <td>2</td>\n",
              "      <td>3</td>\n",
              "      <td>2</td>\n",
              "      <td>1</td>\n",
              "      <td>1</td>\n",
              "      <td>rejected</td>\n",
              "    </tr>\n",
              "    <tr>\n",
              "      <th>5</th>\n",
              "      <td>3204164406100005</td>\n",
              "      <td>EDAH</td>\n",
              "      <td>1984-05-05</td>\n",
              "      <td>0</td>\n",
              "      <td>1</td>\n",
              "      <td>61</td>\n",
              "      <td>1</td>\n",
              "      <td>2</td>\n",
              "      <td>KAB.BANDUNG</td>\n",
              "      <td>ARJASARI</td>\n",
              "      <td>ANCOLMEKAR</td>\n",
              "      <td>KP PASI***** RT 02 RW 08</td>\n",
              "      <td>2</td>\n",
              "      <td>2</td>\n",
              "      <td>3</td>\n",
              "      <td>1</td>\n",
              "      <td>0</td>\n",
              "      <td>0</td>\n",
              "      <td>1</td>\n",
              "      <td>rejected</td>\n",
              "    </tr>\n",
              "    <tr>\n",
              "      <th>6</th>\n",
              "      <td>3204164709100006</td>\n",
              "      <td>ENGK**</td>\n",
              "      <td>2003-04-26</td>\n",
              "      <td>0</td>\n",
              "      <td>1</td>\n",
              "      <td>29</td>\n",
              "      <td>2</td>\n",
              "      <td>5</td>\n",
              "      <td>KAB.BANDUNG</td>\n",
              "      <td>ARJASARI</td>\n",
              "      <td>ANCOLMEKAR</td>\n",
              "      <td>KP ANCO* RW 009 RT 002</td>\n",
              "      <td>1</td>\n",
              "      <td>1</td>\n",
              "      <td>1</td>\n",
              "      <td>2</td>\n",
              "      <td>2</td>\n",
              "      <td>1</td>\n",
              "      <td>1</td>\n",
              "      <td>rejected</td>\n",
              "    </tr>\n",
              "    <tr>\n",
              "      <th>...</th>\n",
              "      <td>...</td>\n",
              "      <td>...</td>\n",
              "      <td>...</td>\n",
              "      <td>...</td>\n",
              "      <td>...</td>\n",
              "      <td>...</td>\n",
              "      <td>...</td>\n",
              "      <td>...</td>\n",
              "      <td>...</td>\n",
              "      <td>...</td>\n",
              "      <td>...</td>\n",
              "      <td>...</td>\n",
              "      <td>...</td>\n",
              "      <td>...</td>\n",
              "      <td>...</td>\n",
              "      <td>...</td>\n",
              "      <td>...</td>\n",
              "      <td>...</td>\n",
              "      <td>...</td>\n",
              "      <td>...</td>\n",
              "    </tr>\n",
              "    <tr>\n",
              "      <th>2783</th>\n",
              "      <td>3204375609102783</td>\n",
              "      <td>ATIK</td>\n",
              "      <td>1991-12-15</td>\n",
              "      <td>4</td>\n",
              "      <td>7</td>\n",
              "      <td>55</td>\n",
              "      <td>2</td>\n",
              "      <td>2</td>\n",
              "      <td>KAB.BANDUNG</td>\n",
              "      <td>SOREANG</td>\n",
              "      <td>SUKANAGARA</td>\n",
              "      <td>KP CIPE***** RT 01 RW 02</td>\n",
              "      <td>0</td>\n",
              "      <td>2</td>\n",
              "      <td>3</td>\n",
              "      <td>1</td>\n",
              "      <td>1</td>\n",
              "      <td>0</td>\n",
              "      <td>0</td>\n",
              "      <td>rejected</td>\n",
              "    </tr>\n",
              "    <tr>\n",
              "      <th>2784</th>\n",
              "      <td>3204374101102784</td>\n",
              "      <td>ENIN*</td>\n",
              "      <td>1923-11-25</td>\n",
              "      <td>5</td>\n",
              "      <td>3</td>\n",
              "      <td>49</td>\n",
              "      <td>2</td>\n",
              "      <td>4</td>\n",
              "      <td>KAB.BANDUNG</td>\n",
              "      <td>SOREANG</td>\n",
              "      <td>SUKANAGARA</td>\n",
              "      <td>KP CIPE***** RT 05 RW 02</td>\n",
              "      <td>1</td>\n",
              "      <td>2</td>\n",
              "      <td>4</td>\n",
              "      <td>0</td>\n",
              "      <td>3</td>\n",
              "      <td>2</td>\n",
              "      <td>3</td>\n",
              "      <td>rejected</td>\n",
              "    </tr>\n",
              "    <tr>\n",
              "      <th>2786</th>\n",
              "      <td>3204374311102786</td>\n",
              "      <td>RUSM****</td>\n",
              "      <td>1935-04-28</td>\n",
              "      <td>6</td>\n",
              "      <td>3</td>\n",
              "      <td>34</td>\n",
              "      <td>3</td>\n",
              "      <td>2</td>\n",
              "      <td>KAB.BANDUNG</td>\n",
              "      <td>SOREANG</td>\n",
              "      <td>SUKANAGARA</td>\n",
              "      <td>KP LEGO* HEAS RT 003 RW 004</td>\n",
              "      <td>0</td>\n",
              "      <td>0</td>\n",
              "      <td>2</td>\n",
              "      <td>0</td>\n",
              "      <td>2</td>\n",
              "      <td>1</td>\n",
              "      <td>1</td>\n",
              "      <td>rejected</td>\n",
              "    </tr>\n",
              "    <tr>\n",
              "      <th>2787</th>\n",
              "      <td>3204370605102787</td>\n",
              "      <td>CAHN*</td>\n",
              "      <td>1932-04-14</td>\n",
              "      <td>5</td>\n",
              "      <td>5</td>\n",
              "      <td>59</td>\n",
              "      <td>0</td>\n",
              "      <td>4</td>\n",
              "      <td>KAB.BANDUNG</td>\n",
              "      <td>SOREANG</td>\n",
              "      <td>SUKANAGARA</td>\n",
              "      <td>KP CIWA*** RT 05 RW 07</td>\n",
              "      <td>0</td>\n",
              "      <td>2</td>\n",
              "      <td>1</td>\n",
              "      <td>1</td>\n",
              "      <td>1</td>\n",
              "      <td>0</td>\n",
              "      <td>1</td>\n",
              "      <td>rejected</td>\n",
              "    </tr>\n",
              "    <tr>\n",
              "      <th>2789</th>\n",
              "      <td>3204374903102789</td>\n",
              "      <td>NENG TINA</td>\n",
              "      <td>1960-03-26</td>\n",
              "      <td>4</td>\n",
              "      <td>1</td>\n",
              "      <td>41</td>\n",
              "      <td>0</td>\n",
              "      <td>1</td>\n",
              "      <td>KAB.BANDUNG</td>\n",
              "      <td>SOREANG</td>\n",
              "      <td>SUKANAGARA</td>\n",
              "      <td>KP SIND*** WARG* RT 002 RW 006</td>\n",
              "      <td>1</td>\n",
              "      <td>1</td>\n",
              "      <td>2</td>\n",
              "      <td>1</td>\n",
              "      <td>0</td>\n",
              "      <td>0</td>\n",
              "      <td>2</td>\n",
              "      <td>rejected</td>\n",
              "    </tr>\n",
              "  </tbody>\n",
              "</table>\n",
              "<p>1790 rows × 20 columns</p>\n",
              "</div>"
            ],
            "text/plain": [
              "                   nik         nama  ... luas_rumah  status_bansos\n",
              "0     3204166610100000  RIMA MELA**  ...          3       rejected\n",
              "2     3204165010100002         USMI  ...          0       rejected\n",
              "4     3204165504100004  ETI ROHA***  ...          1       rejected\n",
              "5     3204164406100005         EDAH  ...          1       rejected\n",
              "6     3204164709100006       ENGK**  ...          1       rejected\n",
              "...                ...          ...  ...        ...            ...\n",
              "2783  3204375609102783         ATIK  ...          0       rejected\n",
              "2784  3204374101102784        ENIN*  ...          3       rejected\n",
              "2786  3204374311102786     RUSM****  ...          1       rejected\n",
              "2787  3204370605102787        CAHN*  ...          1       rejected\n",
              "2789  3204374903102789    NENG TINA  ...          2       rejected\n",
              "\n",
              "[1790 rows x 20 columns]"
            ]
          },
          "metadata": {
            "tags": []
          },
          "execution_count": 47
        },
        {
          "output_type": "stream",
          "text": [
            "time: 52.1 ms (started: 2021-06-02 13:14:13 +00:00)\n"
          ],
          "name": "stdout"
        }
      ]
    },
    {
      "cell_type": "markdown",
      "metadata": {
        "id": "fWtO9VnuQRUc"
      },
      "source": [
        "# Save Predicted Cluster"
      ]
    },
    {
      "cell_type": "code",
      "metadata": {
        "id": "YXJzlrNGhlvG",
        "colab": {
          "base_uri": "https://localhost:8080/"
        },
        "outputId": "fb8e38a9-5d59-41b1-fe77-254e55ae39af"
      },
      "source": [
        "#save NIK & social assistance status for API - to csv\n",
        "result_df.to_csv('PenerimaBansos.csv', index=None)\n",
        "#result_df.to_excel('PenerimaBansos.xlsx', index=None)\n",
        "\n",
        "#save predicted social assistance recipients - to xlsx\n",
        "penduduk_df.to_excel('HasilPenerimaBansos.xlsx', index=None)"
      ],
      "execution_count": null,
      "outputs": [
        {
          "output_type": "stream",
          "text": [
            "time: 1.55 s (started: 2021-06-02 13:14:13 +00:00)\n"
          ],
          "name": "stdout"
        }
      ]
    }
  ]
}